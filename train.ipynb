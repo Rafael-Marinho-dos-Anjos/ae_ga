{
 "cells": [
  {
   "cell_type": "code",
   "execution_count": 1,
   "metadata": {},
   "outputs": [],
   "source": [
    "import torch\n",
    "from tqdm import tqdm\n",
    "import matplotlib.pyplot as plt\n",
    "\n",
    "from copy import deepcopy"
   ]
  },
  {
   "cell_type": "code",
   "execution_count": 2,
   "metadata": {},
   "outputs": [],
   "source": [
    "from dataset.dataloader import train_dl, test_dl, val_dl\n",
    "from auto_encoder.model_822 import AutoEncoder"
   ]
  },
  {
   "cell_type": "code",
   "execution_count": 3,
   "metadata": {},
   "outputs": [
    {
     "data": {
      "text/plain": [
       "<matplotlib.image.AxesImage at 0x205c512f210>"
      ]
     },
     "execution_count": 3,
     "metadata": {},
     "output_type": "execute_result"
    },
    {
     "data": {
      "image/png": "[encoded data removed]",
      "text/plain": [
       "<Figure size 640x480 with 1 Axes>"
      ]
     },
     "metadata": {},
     "output_type": "display_data"
    }
   ],
   "source": [
    "images, labels = next(iter(train_dl))\n",
    "\n",
    "plt.imshow(images[0].squeeze(), cmap=\"gray\")"
   ]
  },
  {
   "cell_type": "code",
   "execution_count": 4,
   "metadata": {},
   "outputs": [
    {
     "data": {
      "text/plain": [
       "device(type='cuda')"
      ]
     },
     "execution_count": 4,
     "metadata": {},
     "output_type": "execute_result"
    }
   ],
   "source": [
    "device = torch.device(\"cuda\" if torch.cuda.is_available() else \"cpu\")\n",
    "model = AutoEncoder(images.shape[1]).to(device)\n",
    "device"
   ]
  },
  {
   "cell_type": "code",
   "execution_count": 5,
   "metadata": {},
   "outputs": [],
   "source": [
    "EPOCHS = 100\n",
    "lr = 0.0001\n",
    "loss_func = torch.nn.L1Loss()\n",
    "optim = torch.optim.Adam(model.parameters(), lr=lr)"
   ]
  },
  {
   "cell_type": "code",
   "execution_count": 6,
   "metadata": {},
   "outputs": [
    {
     "name": "stdout",
     "output_type": "stream",
     "text": [
      "Epoch: [1/100]\n"
     ]
    },
    {
     "name": "stderr",
     "output_type": "stream",
     "text": [
      "100%|██████████| 3750/3750 [00:10<00:00, 347.37it/s]\n",
      "100%|██████████| 313/313 [00:00<00:00, 683.16it/s]\n"
     ]
    },
    {
     "name": "stdout",
     "output_type": "stream",
     "text": [
      "\tTrain loss: 0.1424814532160759\n",
      "\t  Val loss: 0.12467856329089155\n",
      "Epoch: [2/100]\n"
     ]
    },
    {
     "name": "stderr",
     "output_type": "stream",
     "text": [
      "100%|██████████| 3750/3750 [00:10<00:00, 351.61it/s]\n",
      "100%|██████████| 313/313 [00:00<00:00, 698.49it/s]\n"
     ]
    },
    {
     "name": "stdout",
     "output_type": "stream",
     "text": [
      "\tTrain loss: 0.11657106477419535\n",
      "\t  Val loss: 0.11280786198453781\n",
      "Epoch: [3/100]\n"
     ]
    },
    {
     "name": "stderr",
     "output_type": "stream",
     "text": [
      "100%|██████████| 3750/3750 [00:11<00:00, 336.64it/s]\n",
      "100%|██████████| 313/313 [00:00<00:00, 684.80it/s]\n"
     ]
    },
    {
     "name": "stdout",
     "output_type": "stream",
     "text": [
      "\tTrain loss: 0.10825320085088412\n",
      "\t  Val loss: 0.10656442059971653\n",
      "Epoch: [4/100]\n"
     ]
    },
    {
     "name": "stderr",
     "output_type": "stream",
     "text": [
      "100%|██████████| 3750/3750 [00:12<00:00, 299.03it/s]\n",
      "100%|██████████| 313/313 [00:00<00:00, 741.03it/s]\n"
     ]
    },
    {
     "name": "stdout",
     "output_type": "stream",
     "text": [
      "\tTrain loss: 0.10308511582612992\n",
      "\t  Val loss: 0.1023280810291013\n",
      "Epoch: [5/100]\n"
     ]
    },
    {
     "name": "stderr",
     "output_type": "stream",
     "text": [
      "100%|██████████| 3750/3750 [00:12<00:00, 293.88it/s]\n",
      "100%|██████████| 313/313 [00:00<00:00, 734.66it/s]\n"
     ]
    },
    {
     "name": "stdout",
     "output_type": "stream",
     "text": [
      "\tTrain loss: 0.09953749632835387\n",
      "\t  Val loss: 0.09882829728694008\n",
      "Epoch: [6/100]\n"
     ]
    },
    {
     "name": "stderr",
     "output_type": "stream",
     "text": [
      "100%|██████████| 3750/3750 [00:12<00:00, 304.25it/s]\n",
      "100%|██████████| 313/313 [00:00<00:00, 706.55it/s]\n"
     ]
    },
    {
     "name": "stdout",
     "output_type": "stream",
     "text": [
      "\tTrain loss: 0.09597006608843803\n",
      "\t  Val loss: 0.09511675085789098\n",
      "Epoch: [7/100]\n"
     ]
    },
    {
     "name": "stderr",
     "output_type": "stream",
     "text": [
      "100%|██████████| 3750/3750 [00:12<00:00, 292.88it/s]\n",
      "100%|██████████| 313/313 [00:00<00:00, 704.96it/s]\n"
     ]
    },
    {
     "name": "stdout",
     "output_type": "stream",
     "text": [
      "\tTrain loss: 0.09216535727381706\n",
      "\t  Val loss: 0.09129525668704852\n",
      "Epoch: [8/100]\n"
     ]
    },
    {
     "name": "stderr",
     "output_type": "stream",
     "text": [
      "100%|██████████| 3750/3750 [00:10<00:00, 347.65it/s]\n",
      "100%|██████████| 313/313 [00:00<00:00, 700.23it/s]\n"
     ]
    },
    {
     "name": "stdout",
     "output_type": "stream",
     "text": [
      "\tTrain loss: 0.08900077465275924\n",
      "\t  Val loss: 0.08843284133619393\n",
      "Epoch: [9/100]\n"
     ]
    },
    {
     "name": "stderr",
     "output_type": "stream",
     "text": [
      "100%|██████████| 3750/3750 [00:12<00:00, 302.25it/s]\n",
      "100%|██████████| 313/313 [00:00<00:00, 719.31it/s]\n"
     ]
    },
    {
     "name": "stdout",
     "output_type": "stream",
     "text": [
      "\tTrain loss: 0.08648452618718147\n",
      "\t  Val loss: 0.08614027476348816\n",
      "Epoch: [10/100]\n"
     ]
    },
    {
     "name": "stderr",
     "output_type": "stream",
     "text": [
      "100%|██████████| 3750/3750 [00:13<00:00, 288.38it/s]\n",
      "100%|██████████| 313/313 [00:00<00:00, 687.91it/s]\n"
     ]
    },
    {
     "name": "stdout",
     "output_type": "stream",
     "text": [
      "\tTrain loss: 0.08459503483772278\n",
      "\t  Val loss: 0.08488310114168131\n",
      "Epoch: [11/100]\n"
     ]
    },
    {
     "name": "stderr",
     "output_type": "stream",
     "text": [
      "100%|██████████| 3750/3750 [00:12<00:00, 295.75it/s]\n",
      "100%|██████████| 313/313 [00:00<00:00, 694.01it/s]\n"
     ]
    },
    {
     "name": "stdout",
     "output_type": "stream",
     "text": [
      "\tTrain loss: 0.08299996688663959\n",
      "\t  Val loss: 0.08275210520567985\n",
      "Epoch: [12/100]\n"
     ]
    },
    {
     "name": "stderr",
     "output_type": "stream",
     "text": [
      "100%|██████████| 3750/3750 [00:12<00:00, 292.73it/s]\n",
      "100%|██████████| 313/313 [00:00<00:00, 668.32it/s]\n"
     ]
    },
    {
     "name": "stdout",
     "output_type": "stream",
     "text": [
      "\tTrain loss: 0.08147443599204222\n",
      "\t  Val loss: 0.08105703701559729\n",
      "Epoch: [13/100]\n"
     ]
    },
    {
     "name": "stderr",
     "output_type": "stream",
     "text": [
      "100%|██████████| 3750/3750 [00:12<00:00, 290.73it/s]\n",
      "100%|██████████| 313/313 [00:00<00:00, 684.69it/s]\n"
     ]
    },
    {
     "name": "stdout",
     "output_type": "stream",
     "text": [
      "\tTrain loss: 0.07978944110969702\n",
      "\t  Val loss: 0.07920087541873082\n",
      "Epoch: [14/100]\n"
     ]
    },
    {
     "name": "stderr",
     "output_type": "stream",
     "text": [
      "100%|██████████| 3750/3750 [00:12<00:00, 295.79it/s]\n",
      "100%|██████████| 313/313 [00:00<00:00, 711.37it/s]\n"
     ]
    },
    {
     "name": "stdout",
     "output_type": "stream",
     "text": [
      "\tTrain loss: 0.07767237240374088\n",
      "\t  Val loss: 0.07684641742049314\n",
      "Epoch: [15/100]\n"
     ]
    },
    {
     "name": "stderr",
     "output_type": "stream",
     "text": [
      "100%|██████████| 3750/3750 [00:10<00:00, 353.02it/s]\n",
      "100%|██████████| 313/313 [00:00<00:00, 710.70it/s]\n"
     ]
    },
    {
     "name": "stdout",
     "output_type": "stream",
     "text": [
      "\tTrain loss: 0.07544106283187867\n",
      "\t  Val loss: 0.07453281220536644\n",
      "Epoch: [16/100]\n"
     ]
    },
    {
     "name": "stderr",
     "output_type": "stream",
     "text": [
      "100%|██████████| 3750/3750 [00:12<00:00, 294.27it/s]\n",
      "100%|██████████| 313/313 [00:00<00:00, 684.90it/s]\n"
     ]
    },
    {
     "name": "stdout",
     "output_type": "stream",
     "text": [
      "\tTrain loss: 0.07328628525237242\n",
      "\t  Val loss: 0.07241411271472327\n",
      "Epoch: [17/100]\n"
     ]
    },
    {
     "name": "stderr",
     "output_type": "stream",
     "text": [
      "100%|██████████| 3750/3750 [00:11<00:00, 337.80it/s]\n",
      "100%|██████████| 313/313 [00:00<00:00, 717.89it/s]\n"
     ]
    },
    {
     "name": "stdout",
     "output_type": "stream",
     "text": [
      "\tTrain loss: 0.07132902300159137\n",
      "\t  Val loss: 0.07064154412085637\n",
      "Epoch: [18/100]\n"
     ]
    },
    {
     "name": "stderr",
     "output_type": "stream",
     "text": [
      "100%|██████████| 3750/3750 [00:10<00:00, 352.73it/s]\n",
      "100%|██████████| 313/313 [00:00<00:00, 684.90it/s]\n"
     ]
    },
    {
     "name": "stdout",
     "output_type": "stream",
     "text": [
      "\tTrain loss: 0.06964107134838898\n",
      "\t  Val loss: 0.06901166017967672\n",
      "Epoch: [19/100]\n"
     ]
    },
    {
     "name": "stderr",
     "output_type": "stream",
     "text": [
      "100%|██████████| 3750/3750 [00:10<00:00, 353.60it/s]\n",
      "100%|██████████| 313/313 [00:00<00:00, 701.73it/s]\n"
     ]
    },
    {
     "name": "stdout",
     "output_type": "stream",
     "text": [
      "\tTrain loss: 0.06814253140886625\n",
      "\t  Val loss: 0.06749117080443584\n",
      "Epoch: [20/100]\n"
     ]
    },
    {
     "name": "stderr",
     "output_type": "stream",
     "text": [
      "100%|██████████| 3750/3750 [00:10<00:00, 353.29it/s]\n",
      "100%|██████████| 313/313 [00:00<00:00, 647.80it/s]\n"
     ]
    },
    {
     "name": "stdout",
     "output_type": "stream",
     "text": [
      "\tTrain loss: 0.06680744144022464\n",
      "\t  Val loss: 0.06622785012038371\n",
      "Epoch: [21/100]\n"
     ]
    },
    {
     "name": "stderr",
     "output_type": "stream",
     "text": [
      "100%|██████████| 3750/3750 [00:15<00:00, 240.72it/s]\n",
      "100%|██████████| 313/313 [00:00<00:00, 325.76it/s]\n"
     ]
    },
    {
     "name": "stdout",
     "output_type": "stream",
     "text": [
      "\tTrain loss: 0.06557580035030842\n",
      "\t  Val loss: 0.06558539940954779\n",
      "Epoch: [22/100]\n"
     ]
    },
    {
     "name": "stderr",
     "output_type": "stream",
     "text": [
      "100%|██████████| 3750/3750 [00:14<00:00, 258.31it/s]\n",
      "100%|██████████| 313/313 [00:00<00:00, 727.91it/s]\n"
     ]
    },
    {
     "name": "stdout",
     "output_type": "stream",
     "text": [
      "\tTrain loss: 0.0644652582526207\n",
      "\t  Val loss: 0.06362129915684175\n",
      "Epoch: [23/100]\n"
     ]
    },
    {
     "name": "stderr",
     "output_type": "stream",
     "text": [
      "100%|██████████| 3750/3750 [00:10<00:00, 357.24it/s]\n",
      "100%|██████████| 313/313 [00:00<00:00, 708.02it/s]\n"
     ]
    },
    {
     "name": "stdout",
     "output_type": "stream",
     "text": [
      "\tTrain loss: 0.0634148142794768\n",
      "\t  Val loss: 0.06288946736544467\n",
      "Epoch: [24/100]\n"
     ]
    },
    {
     "name": "stderr",
     "output_type": "stream",
     "text": [
      "100%|██████████| 3750/3750 [00:10<00:00, 355.68it/s]\n",
      "100%|██████████| 313/313 [00:00<00:00, 689.43it/s]\n"
     ]
    },
    {
     "name": "stdout",
     "output_type": "stream",
     "text": [
      "\tTrain loss: 0.06246411766211192\n",
      "\t  Val loss: 0.06188321236175851\n",
      "Epoch: [25/100]\n"
     ]
    },
    {
     "name": "stderr",
     "output_type": "stream",
     "text": [
      "100%|██████████| 3750/3750 [00:10<00:00, 355.16it/s]\n",
      "100%|██████████| 313/313 [00:00<00:00, 714.55it/s]\n"
     ]
    },
    {
     "name": "stdout",
     "output_type": "stream",
     "text": [
      "\tTrain loss: 0.061563668702046076\n",
      "\t  Val loss: 0.06085846663568728\n",
      "Epoch: [26/100]\n"
     ]
    },
    {
     "name": "stderr",
     "output_type": "stream",
     "text": [
      "100%|██████████| 3750/3750 [00:10<00:00, 357.05it/s]\n",
      "100%|██████████| 313/313 [00:00<00:00, 709.39it/s]\n"
     ]
    },
    {
     "name": "stdout",
     "output_type": "stream",
     "text": [
      "\tTrain loss: 0.06071735537747542\n",
      "\t  Val loss: 0.06028600415577904\n",
      "Epoch: [27/100]\n"
     ]
    },
    {
     "name": "stderr",
     "output_type": "stream",
     "text": [
      "100%|██████████| 3750/3750 [00:12<00:00, 301.85it/s]\n",
      "100%|██████████| 313/313 [00:00<00:00, 687.82it/s]\n"
     ]
    },
    {
     "name": "stdout",
     "output_type": "stream",
     "text": [
      "\tTrain loss: 0.059915671694278715\n",
      "\t  Val loss: 0.05938620367846169\n",
      "Epoch: [28/100]\n"
     ]
    },
    {
     "name": "stderr",
     "output_type": "stream",
     "text": [
      "100%|██████████| 3750/3750 [00:12<00:00, 297.43it/s]\n",
      "100%|██████████| 313/313 [00:00<00:00, 668.55it/s]\n"
     ]
    },
    {
     "name": "stdout",
     "output_type": "stream",
     "text": [
      "\tTrain loss: 0.05918480072617531\n",
      "\t  Val loss: 0.05865613424692291\n",
      "Epoch: [29/100]\n"
     ]
    },
    {
     "name": "stderr",
     "output_type": "stream",
     "text": [
      "100%|██████████| 3750/3750 [00:11<00:00, 320.54it/s]\n",
      "100%|██████████| 313/313 [00:00<00:00, 701.80it/s]\n"
     ]
    },
    {
     "name": "stdout",
     "output_type": "stream",
     "text": [
      "\tTrain loss: 0.05845047968029976\n",
      "\t  Val loss: 0.0581061636178067\n",
      "Epoch: [30/100]\n"
     ]
    },
    {
     "name": "stderr",
     "output_type": "stream",
     "text": [
      "100%|██████████| 3750/3750 [00:10<00:00, 351.92it/s]\n",
      "100%|██████████| 313/313 [00:00<00:00, 712.99it/s]\n"
     ]
    },
    {
     "name": "stdout",
     "output_type": "stream",
     "text": [
      "\tTrain loss: 0.057810645584265394\n",
      "\t  Val loss: 0.057724284240232106\n",
      "Epoch: [31/100]\n"
     ]
    },
    {
     "name": "stderr",
     "output_type": "stream",
     "text": [
      "100%|██████████| 3750/3750 [00:10<00:00, 355.80it/s]\n",
      "100%|██████████| 313/313 [00:00<00:00, 714.61it/s]\n"
     ]
    },
    {
     "name": "stdout",
     "output_type": "stream",
     "text": [
      "\tTrain loss: 0.05718185851871967\n",
      "\t  Val loss: 0.05686387577995706\n",
      "Epoch: [32/100]\n"
     ]
    },
    {
     "name": "stderr",
     "output_type": "stream",
     "text": [
      "100%|██████████| 3750/3750 [00:10<00:00, 353.21it/s]\n",
      "100%|██████████| 313/313 [00:00<00:00, 683.08it/s]\n"
     ]
    },
    {
     "name": "stdout",
     "output_type": "stream",
     "text": [
      "\tTrain loss: 0.056624345284700395\n",
      "\t  Val loss: 0.05640449911689225\n",
      "Epoch: [33/100]\n"
     ]
    },
    {
     "name": "stderr",
     "output_type": "stream",
     "text": [
      "100%|██████████| 3750/3750 [00:12<00:00, 293.12it/s]\n",
      "100%|██████████| 313/313 [00:00<00:00, 704.96it/s]\n"
     ]
    },
    {
     "name": "stdout",
     "output_type": "stream",
     "text": [
      "\tTrain loss: 0.056127353434761364\n",
      "\t  Val loss: 0.055699841425822565\n",
      "Epoch: [34/100]\n"
     ]
    },
    {
     "name": "stderr",
     "output_type": "stream",
     "text": [
      "100%|██████████| 3750/3750 [00:12<00:00, 292.32it/s]\n",
      "100%|██████████| 313/313 [00:00<00:00, 686.15it/s]\n"
     ]
    },
    {
     "name": "stdout",
     "output_type": "stream",
     "text": [
      "\tTrain loss: 0.05565439536174138\n",
      "\t  Val loss: 0.055232903887383854\n",
      "Epoch: [35/100]\n"
     ]
    },
    {
     "name": "stderr",
     "output_type": "stream",
     "text": [
      "100%|██████████| 3750/3750 [00:12<00:00, 290.14it/s]\n",
      "100%|██████████| 313/313 [00:00<00:00, 712.99it/s]\n"
     ]
    },
    {
     "name": "stdout",
     "output_type": "stream",
     "text": [
      "\tTrain loss: 0.05519958952665329\n",
      "\t  Val loss: 0.054966110509995836\n",
      "Epoch: [36/100]\n"
     ]
    },
    {
     "name": "stderr",
     "output_type": "stream",
     "text": [
      "100%|██████████| 3750/3750 [00:12<00:00, 296.44it/s]\n",
      "100%|██████████| 313/313 [00:00<00:00, 697.88it/s]\n"
     ]
    },
    {
     "name": "stdout",
     "output_type": "stream",
     "text": [
      "\tTrain loss: 0.0547646681646506\n",
      "\t  Val loss: 0.054395096858564654\n",
      "Epoch: [37/100]\n"
     ]
    },
    {
     "name": "stderr",
     "output_type": "stream",
     "text": [
      "100%|██████████| 3750/3750 [00:13<00:00, 287.27it/s]\n",
      "100%|██████████| 313/313 [00:00<00:00, 704.87it/s]\n"
     ]
    },
    {
     "name": "stdout",
     "output_type": "stream",
     "text": [
      "\tTrain loss: 0.05433983837564786\n",
      "\t  Val loss: 0.05401462718796806\n",
      "Epoch: [38/100]\n"
     ]
    },
    {
     "name": "stderr",
     "output_type": "stream",
     "text": [
      "100%|██████████| 3750/3750 [00:12<00:00, 297.76it/s]\n",
      "100%|██████████| 313/313 [00:00<00:00, 700.23it/s]\n"
     ]
    },
    {
     "name": "stdout",
     "output_type": "stream",
     "text": [
      "\tTrain loss: 0.05391404587725798\n",
      "\t  Val loss: 0.053580439735810975\n",
      "Epoch: [39/100]\n"
     ]
    },
    {
     "name": "stderr",
     "output_type": "stream",
     "text": [
      "100%|██████████| 3750/3750 [00:12<00:00, 293.45it/s]\n",
      "100%|██████████| 313/313 [00:00<00:00, 700.82it/s]\n"
     ]
    },
    {
     "name": "stdout",
     "output_type": "stream",
     "text": [
      "\tTrain loss: 0.05353409470021725\n",
      "\t  Val loss: 0.053090327606795315\n",
      "Epoch: [40/100]\n"
     ]
    },
    {
     "name": "stderr",
     "output_type": "stream",
     "text": [
      "100%|██████████| 3750/3750 [00:12<00:00, 290.68it/s]\n",
      "100%|██████████| 313/313 [00:00<00:00, 700.91it/s]\n"
     ]
    },
    {
     "name": "stdout",
     "output_type": "stream",
     "text": [
      "\tTrain loss: 0.05318554285267989\n",
      "\t  Val loss: 0.052806274411967766\n",
      "Epoch: [41/100]\n"
     ]
    },
    {
     "name": "stderr",
     "output_type": "stream",
     "text": [
      "100%|██████████| 3750/3750 [00:11<00:00, 317.53it/s]\n",
      "100%|██████████| 313/313 [00:00<00:00, 717.60it/s]\n"
     ]
    },
    {
     "name": "stdout",
     "output_type": "stream",
     "text": [
      "\tTrain loss: 0.05279625726640225\n",
      "\t  Val loss: 0.0528504868475393\n",
      "Epoch: [42/100]\n"
     ]
    },
    {
     "name": "stderr",
     "output_type": "stream",
     "text": [
      "100%|██████████| 3750/3750 [00:10<00:00, 351.76it/s]\n",
      "100%|██████████| 313/313 [00:00<00:00, 705.03it/s]\n"
     ]
    },
    {
     "name": "stdout",
     "output_type": "stream",
     "text": [
      "\tTrain loss: 0.052462076044082644\n",
      "\t  Val loss: 0.05240305350087702\n",
      "Epoch: [43/100]\n"
     ]
    },
    {
     "name": "stderr",
     "output_type": "stream",
     "text": [
      "100%|██████████| 3750/3750 [00:12<00:00, 292.19it/s]\n",
      "100%|██████████| 313/313 [00:00<00:00, 678.58it/s]\n"
     ]
    },
    {
     "name": "stdout",
     "output_type": "stream",
     "text": [
      "\tTrain loss: 0.05212494498292605\n",
      "\t  Val loss: 0.0518319539773388\n",
      "Epoch: [44/100]\n"
     ]
    },
    {
     "name": "stderr",
     "output_type": "stream",
     "text": [
      "100%|██████████| 3750/3750 [00:12<00:00, 292.38it/s]\n",
      "100%|██████████| 313/313 [00:00<00:00, 690.81it/s]\n"
     ]
    },
    {
     "name": "stdout",
     "output_type": "stream",
     "text": [
      "\tTrain loss: 0.05185166377425194\n",
      "\t  Val loss: 0.051458292673475826\n",
      "Epoch: [45/100]\n"
     ]
    },
    {
     "name": "stderr",
     "output_type": "stream",
     "text": [
      "100%|██████████| 3750/3750 [00:13<00:00, 287.18it/s]\n",
      "100%|██████████| 313/313 [00:00<00:00, 695.56it/s]\n"
     ]
    },
    {
     "name": "stdout",
     "output_type": "stream",
     "text": [
      "\tTrain loss: 0.051548660333951314\n",
      "\t  Val loss: 0.05148157885613533\n",
      "Epoch: [46/100]\n"
     ]
    },
    {
     "name": "stderr",
     "output_type": "stream",
     "text": [
      "100%|██████████| 3750/3750 [00:10<00:00, 347.50it/s]\n",
      "100%|██████████| 313/313 [00:00<00:00, 708.15it/s]\n"
     ]
    },
    {
     "name": "stdout",
     "output_type": "stream",
     "text": [
      "\tTrain loss: 0.051259666512409846\n",
      "\t  Val loss: 0.05096856767710405\n",
      "Epoch: [47/100]\n"
     ]
    },
    {
     "name": "stderr",
     "output_type": "stream",
     "text": [
      "100%|██████████| 3750/3750 [00:10<00:00, 354.92it/s]\n",
      "100%|██████████| 313/313 [00:00<00:00, 704.96it/s]\n"
     ]
    },
    {
     "name": "stdout",
     "output_type": "stream",
     "text": [
      "\tTrain loss: 0.05104665245612462\n",
      "\t  Val loss: 0.05103759747296096\n",
      "Epoch: [48/100]\n"
     ]
    },
    {
     "name": "stderr",
     "output_type": "stream",
     "text": [
      "100%|██████████| 3750/3750 [00:10<00:00, 357.30it/s]\n",
      "100%|██████████| 313/313 [00:00<00:00, 697.11it/s]\n"
     ]
    },
    {
     "name": "stdout",
     "output_type": "stream",
     "text": [
      "\tTrain loss: 0.05076183130343755\n",
      "\t  Val loss: 0.05034999445842478\n",
      "Epoch: [49/100]\n"
     ]
    },
    {
     "name": "stderr",
     "output_type": "stream",
     "text": [
      "100%|██████████| 3750/3750 [00:10<00:00, 357.33it/s]\n",
      "100%|██████████| 313/313 [00:00<00:00, 674.57it/s]\n"
     ]
    },
    {
     "name": "stdout",
     "output_type": "stream",
     "text": [
      "\tTrain loss: 0.05054292668402195\n",
      "\t  Val loss: 0.050378293441697815\n",
      "Epoch: [50/100]\n"
     ]
    },
    {
     "name": "stderr",
     "output_type": "stream",
     "text": [
      "100%|██████████| 3750/3750 [00:10<00:00, 356.48it/s]\n",
      "100%|██████████| 313/313 [00:00<00:00, 701.80it/s]\n"
     ]
    },
    {
     "name": "stdout",
     "output_type": "stream",
     "text": [
      "\tTrain loss: 0.05031899386644363\n",
      "\t  Val loss: 0.050033463551975285\n",
      "Epoch: [51/100]\n"
     ]
    },
    {
     "name": "stderr",
     "output_type": "stream",
     "text": [
      "100%|██████████| 3750/3750 [00:10<00:00, 357.66it/s]\n",
      "100%|██████████| 313/313 [00:00<00:00, 720.95it/s]\n"
     ]
    },
    {
     "name": "stdout",
     "output_type": "stream",
     "text": [
      "\tTrain loss: 0.05008824155330658\n",
      "\t  Val loss: 0.049835967084470266\n",
      "Epoch: [52/100]\n"
     ]
    },
    {
     "name": "stderr",
     "output_type": "stream",
     "text": [
      "100%|██████████| 3750/3750 [00:10<00:00, 356.21it/s]\n",
      "100%|██████████| 313/313 [00:00<00:00, 703.46it/s]\n"
     ]
    },
    {
     "name": "stdout",
     "output_type": "stream",
     "text": [
      "\tTrain loss: 0.04988538077622652\n",
      "\t  Val loss: 0.05013814700630526\n",
      "Epoch: [53/100]\n"
     ]
    },
    {
     "name": "stderr",
     "output_type": "stream",
     "text": [
      "100%|██████████| 3750/3750 [00:10<00:00, 353.31it/s]\n",
      "100%|██████████| 313/313 [00:00<00:00, 696.32it/s]\n"
     ]
    },
    {
     "name": "stdout",
     "output_type": "stream",
     "text": [
      "\tTrain loss: 0.04967255951265494\n",
      "\t  Val loss: 0.049727236810393226\n",
      "Epoch: [54/100]\n"
     ]
    },
    {
     "name": "stderr",
     "output_type": "stream",
     "text": [
      "100%|██████████| 3750/3750 [00:10<00:00, 357.26it/s]\n",
      "100%|██████████| 313/313 [00:00<00:00, 701.00it/s]\n"
     ]
    },
    {
     "name": "stdout",
     "output_type": "stream",
     "text": [
      "\tTrain loss: 0.04949942956070105\n",
      "\t  Val loss: 0.04924499457731795\n",
      "Epoch: [55/100]\n"
     ]
    },
    {
     "name": "stderr",
     "output_type": "stream",
     "text": [
      "100%|██████████| 3750/3750 [00:10<00:00, 356.48it/s]\n",
      "100%|██████████| 313/313 [00:00<00:00, 704.96it/s]\n"
     ]
    },
    {
     "name": "stdout",
     "output_type": "stream",
     "text": [
      "\tTrain loss: 0.04929418060282866\n",
      "\t  Val loss: 0.04918450565812306\n",
      "Epoch: [56/100]\n"
     ]
    },
    {
     "name": "stderr",
     "output_type": "stream",
     "text": [
      "100%|██████████| 3750/3750 [00:10<00:00, 358.38it/s]\n",
      "100%|██████████| 313/313 [00:00<00:00, 711.37it/s]\n"
     ]
    },
    {
     "name": "stdout",
     "output_type": "stream",
     "text": [
      "\tTrain loss: 0.04909495958089829\n",
      "\t  Val loss: 0.048939784685262853\n",
      "Epoch: [57/100]\n"
     ]
    },
    {
     "name": "stderr",
     "output_type": "stream",
     "text": [
      "100%|██████████| 3750/3750 [00:10<00:00, 357.03it/s]\n",
      "100%|██████████| 313/313 [00:00<00:00, 657.40it/s]\n"
     ]
    },
    {
     "name": "stdout",
     "output_type": "stream",
     "text": [
      "\tTrain loss: 0.048925758724908036\n",
      "\t  Val loss: 0.04857478428858157\n",
      "Epoch: [58/100]\n"
     ]
    },
    {
     "name": "stderr",
     "output_type": "stream",
     "text": [
      "100%|██████████| 3750/3750 [00:12<00:00, 290.46it/s]\n",
      "100%|██████████| 313/313 [00:00<00:00, 677.49it/s]\n"
     ]
    },
    {
     "name": "stdout",
     "output_type": "stream",
     "text": [
      "\tTrain loss: 0.04873802923957507\n",
      "\t  Val loss: 0.04832981438777698\n",
      "Epoch: [59/100]\n"
     ]
    },
    {
     "name": "stderr",
     "output_type": "stream",
     "text": [
      "100%|██████████| 3750/3750 [00:11<00:00, 322.77it/s]\n",
      "100%|██████████| 313/313 [00:00<00:00, 715.57it/s]\n"
     ]
    },
    {
     "name": "stdout",
     "output_type": "stream",
     "text": [
      "\tTrain loss: 0.04854281444400549\n",
      "\t  Val loss: 0.048334261015676463\n",
      "Epoch: [60/100]\n"
     ]
    },
    {
     "name": "stderr",
     "output_type": "stream",
     "text": [
      "100%|██████████| 3750/3750 [00:10<00:00, 353.83it/s]\n",
      "100%|██████████| 313/313 [00:00<00:00, 721.20it/s]\n"
     ]
    },
    {
     "name": "stdout",
     "output_type": "stream",
     "text": [
      "\tTrain loss: 0.04836429500679175\n",
      "\t  Val loss: 0.04815078680269634\n",
      "Epoch: [61/100]\n"
     ]
    },
    {
     "name": "stderr",
     "output_type": "stream",
     "text": [
      "100%|██████████| 3750/3750 [00:10<00:00, 353.09it/s]\n",
      "100%|██████████| 313/313 [00:00<00:00, 716.12it/s]\n"
     ]
    },
    {
     "name": "stdout",
     "output_type": "stream",
     "text": [
      "\tTrain loss: 0.048186818529168764\n",
      "\t  Val loss: 0.0477168337581828\n",
      "Epoch: [62/100]\n"
     ]
    },
    {
     "name": "stderr",
     "output_type": "stream",
     "text": [
      "100%|██████████| 3750/3750 [00:10<00:00, 353.90it/s]\n",
      "100%|██████████| 313/313 [00:00<00:00, 696.87it/s]\n"
     ]
    },
    {
     "name": "stdout",
     "output_type": "stream",
     "text": [
      "\tTrain loss: 0.048018667017420136\n",
      "\t  Val loss: 0.04774413117395041\n",
      "Epoch: [63/100]\n"
     ]
    },
    {
     "name": "stderr",
     "output_type": "stream",
     "text": [
      "100%|██████████| 3750/3750 [00:13<00:00, 287.13it/s]\n",
      "100%|██████████| 313/313 [00:00<00:00, 664.09it/s]\n"
     ]
    },
    {
     "name": "stdout",
     "output_type": "stream",
     "text": [
      "\tTrain loss: 0.04784057881931464\n",
      "\t  Val loss: 0.04818962902401964\n",
      "Epoch: [64/100]\n"
     ]
    },
    {
     "name": "stderr",
     "output_type": "stream",
     "text": [
      "100%|██████████| 3750/3750 [00:12<00:00, 294.89it/s]\n",
      "100%|██████████| 313/313 [00:00<00:00, 678.96it/s]\n"
     ]
    },
    {
     "name": "stdout",
     "output_type": "stream",
     "text": [
      "\tTrain loss: 0.0476936034878095\n",
      "\t  Val loss: 0.04764752176861032\n",
      "Epoch: [65/100]\n"
     ]
    },
    {
     "name": "stderr",
     "output_type": "stream",
     "text": [
      "100%|██████████| 3750/3750 [00:13<00:00, 288.45it/s]\n",
      "100%|██████████| 313/313 [00:00<00:00, 663.73it/s]\n"
     ]
    },
    {
     "name": "stdout",
     "output_type": "stream",
     "text": [
      "\tTrain loss: 0.0475146388699611\n",
      "\t  Val loss: 0.046925250643168014\n",
      "Epoch: [66/100]\n"
     ]
    },
    {
     "name": "stderr",
     "output_type": "stream",
     "text": [
      "100%|██████████| 3750/3750 [00:11<00:00, 340.62it/s]\n",
      "100%|██████████| 313/313 [00:00<00:00, 700.23it/s]\n"
     ]
    },
    {
     "name": "stdout",
     "output_type": "stream",
     "text": [
      "\tTrain loss: 0.04734970811804136\n",
      "\t  Val loss: 0.04724980701510899\n",
      "Epoch: [67/100]\n"
     ]
    },
    {
     "name": "stderr",
     "output_type": "stream",
     "text": [
      "100%|██████████| 3750/3750 [00:10<00:00, 343.88it/s]\n",
      "100%|██████████| 313/313 [00:00<00:00, 696.78it/s]\n"
     ]
    },
    {
     "name": "stdout",
     "output_type": "stream",
     "text": [
      "\tTrain loss: 0.047195391822854676\n",
      "\t  Val loss: 0.04688758588732241\n",
      "Epoch: [68/100]\n"
     ]
    },
    {
     "name": "stderr",
     "output_type": "stream",
     "text": [
      "100%|██████████| 3750/3750 [00:12<00:00, 288.77it/s]\n",
      "100%|██████████| 313/313 [00:00<00:00, 701.07it/s]\n"
     ]
    },
    {
     "name": "stdout",
     "output_type": "stream",
     "text": [
      "\tTrain loss: 0.04704184676508109\n",
      "\t  Val loss: 0.046856782818659425\n",
      "Epoch: [69/100]\n"
     ]
    },
    {
     "name": "stderr",
     "output_type": "stream",
     "text": [
      "100%|██████████| 3750/3750 [00:12<00:00, 302.95it/s]\n",
      "100%|██████████| 313/313 [00:00<00:00, 704.16it/s]\n"
     ]
    },
    {
     "name": "stdout",
     "output_type": "stream",
     "text": [
      "\tTrain loss: 0.046891409197449684\n",
      "\t  Val loss: 0.0470765393834335\n",
      "Epoch: [70/100]\n"
     ]
    },
    {
     "name": "stderr",
     "output_type": "stream",
     "text": [
      "100%|██████████| 3750/3750 [00:12<00:00, 293.58it/s]\n",
      "100%|██████████| 313/313 [00:00<00:00, 703.37it/s]\n"
     ]
    },
    {
     "name": "stdout",
     "output_type": "stream",
     "text": [
      "\tTrain loss: 0.04675040202935537\n",
      "\t  Val loss: 0.046707590155232064\n",
      "Epoch: [71/100]\n"
     ]
    },
    {
     "name": "stderr",
     "output_type": "stream",
     "text": [
      "100%|██████████| 3750/3750 [00:12<00:00, 295.44it/s]\n",
      "100%|██████████| 313/313 [00:00<00:00, 667.08it/s]\n"
     ]
    },
    {
     "name": "stdout",
     "output_type": "stream",
     "text": [
      "\tTrain loss: 0.04659767899562915\n",
      "\t  Val loss: 0.046379501612993854\n",
      "Epoch: [72/100]\n"
     ]
    },
    {
     "name": "stderr",
     "output_type": "stream",
     "text": [
      "100%|██████████| 3750/3750 [00:12<00:00, 291.00it/s]\n",
      "100%|██████████| 313/313 [00:00<00:00, 689.43it/s]\n"
     ]
    },
    {
     "name": "stdout",
     "output_type": "stream",
     "text": [
      "\tTrain loss: 0.046471290107568106\n",
      "\t  Val loss: 0.04654453753139645\n",
      "Epoch: [73/100]\n"
     ]
    },
    {
     "name": "stderr",
     "output_type": "stream",
     "text": [
      "100%|██████████| 3750/3750 [00:12<00:00, 289.99it/s]\n",
      "100%|██████████| 313/313 [00:00<00:00, 680.43it/s]\n"
     ]
    },
    {
     "name": "stdout",
     "output_type": "stream",
     "text": [
      "\tTrain loss: 0.0462992160414656\n",
      "\t  Val loss: 0.04599995346971975\n",
      "Epoch: [74/100]\n"
     ]
    },
    {
     "name": "stderr",
     "output_type": "stream",
     "text": [
      "100%|██████████| 3750/3750 [00:10<00:00, 350.10it/s]\n",
      "100%|██████████| 313/313 [00:00<00:00, 676.89it/s]\n"
     ]
    },
    {
     "name": "stdout",
     "output_type": "stream",
     "text": [
      "\tTrain loss: 0.04617401407460372\n",
      "\t  Val loss: 0.04627423885816964\n",
      "Epoch: [75/100]\n"
     ]
    },
    {
     "name": "stderr",
     "output_type": "stream",
     "text": [
      "100%|██████████| 3750/3750 [00:12<00:00, 290.53it/s]\n",
      "100%|██████████| 313/313 [00:00<00:00, 697.11it/s]\n"
     ]
    },
    {
     "name": "stdout",
     "output_type": "stream",
     "text": [
      "\tTrain loss: 0.046034974243243536\n",
      "\t  Val loss: 0.04606899713127377\n",
      "Epoch: [76/100]\n"
     ]
    },
    {
     "name": "stderr",
     "output_type": "stream",
     "text": [
      "100%|██████████| 3750/3750 [00:11<00:00, 327.32it/s]\n",
      "100%|██████████| 313/313 [00:00<00:00, 683.10it/s]\n"
     ]
    },
    {
     "name": "stdout",
     "output_type": "stream",
     "text": [
      "\tTrain loss: 0.045897833798329034\n",
      "\t  Val loss: 0.04564039532940228\n",
      "Epoch: [77/100]\n"
     ]
    },
    {
     "name": "stderr",
     "output_type": "stream",
     "text": [
      "100%|██████████| 3750/3750 [00:10<00:00, 355.97it/s]\n",
      "100%|██████████| 313/313 [00:00<00:00, 695.56it/s]\n"
     ]
    },
    {
     "name": "stdout",
     "output_type": "stream",
     "text": [
      "\tTrain loss: 0.04575534505794446\n",
      "\t  Val loss: 0.04531601442696568\n",
      "Epoch: [78/100]\n"
     ]
    },
    {
     "name": "stderr",
     "output_type": "stream",
     "text": [
      "100%|██████████| 3750/3750 [00:10<00:00, 351.50it/s]\n",
      "100%|██████████| 313/313 [00:00<00:00, 674.51it/s]\n"
     ]
    },
    {
     "name": "stdout",
     "output_type": "stream",
     "text": [
      "\tTrain loss: 0.04562105787148078\n",
      "\t  Val loss: 0.04529442651250873\n",
      "Epoch: [79/100]\n"
     ]
    },
    {
     "name": "stderr",
     "output_type": "stream",
     "text": [
      "100%|██████████| 3750/3750 [00:10<00:00, 355.72it/s]\n",
      "100%|██████████| 313/313 [00:00<00:00, 699.95it/s]\n"
     ]
    },
    {
     "name": "stdout",
     "output_type": "stream",
     "text": [
      "\tTrain loss: 0.04549259235858917\n",
      "\t  Val loss: 0.045349808772817586\n",
      "Epoch: [80/100]\n"
     ]
    },
    {
     "name": "stderr",
     "output_type": "stream",
     "text": [
      "100%|██████████| 3750/3750 [00:10<00:00, 354.69it/s]\n",
      "100%|██████████| 313/313 [00:00<00:00, 698.52it/s]\n"
     ]
    },
    {
     "name": "stdout",
     "output_type": "stream",
     "text": [
      "\tTrain loss: 0.045379239174723626\n",
      "\t  Val loss: 0.04513746951096736\n",
      "Epoch: [81/100]\n"
     ]
    },
    {
     "name": "stderr",
     "output_type": "stream",
     "text": [
      "100%|██████████| 3750/3750 [00:10<00:00, 356.68it/s]\n",
      "100%|██████████| 313/313 [00:00<00:00, 701.80it/s]\n"
     ]
    },
    {
     "name": "stdout",
     "output_type": "stream",
     "text": [
      "\tTrain loss: 0.045268544336160024\n",
      "\t  Val loss: 0.044951342427121184\n",
      "Epoch: [82/100]\n"
     ]
    },
    {
     "name": "stderr",
     "output_type": "stream",
     "text": [
      "100%|██████████| 3750/3750 [00:10<00:00, 357.55it/s]\n",
      "100%|██████████| 313/313 [00:00<00:00, 714.61it/s]\n"
     ]
    },
    {
     "name": "stdout",
     "output_type": "stream",
     "text": [
      "\tTrain loss: 0.04511313904424508\n",
      "\t  Val loss: 0.04471242111235762\n",
      "Epoch: [83/100]\n"
     ]
    },
    {
     "name": "stderr",
     "output_type": "stream",
     "text": [
      "100%|██████████| 3750/3750 [00:10<00:00, 351.03it/s]\n",
      "100%|██████████| 313/313 [00:00<00:00, 709.19it/s]\n"
     ]
    },
    {
     "name": "stdout",
     "output_type": "stream",
     "text": [
      "\tTrain loss: 0.0450004787410299\n",
      "\t  Val loss: 0.04473986308843183\n",
      "Epoch: [84/100]\n"
     ]
    },
    {
     "name": "stderr",
     "output_type": "stream",
     "text": [
      "100%|██████████| 3750/3750 [00:10<00:00, 352.85it/s]\n",
      "100%|██████████| 313/313 [00:00<00:00, 693.74it/s]\n"
     ]
    },
    {
     "name": "stdout",
     "output_type": "stream",
     "text": [
      "\tTrain loss: 0.04487815665553013\n",
      "\t  Val loss: 0.04476276591134529\n",
      "Epoch: [85/100]\n"
     ]
    },
    {
     "name": "stderr",
     "output_type": "stream",
     "text": [
      "100%|██████████| 3750/3750 [00:10<00:00, 355.35it/s]\n",
      "100%|██████████| 313/313 [00:00<00:00, 695.56it/s]\n"
     ]
    },
    {
     "name": "stdout",
     "output_type": "stream",
     "text": [
      "\tTrain loss: 0.044758779923121134\n",
      "\t  Val loss: 0.044609022442810835\n",
      "Epoch: [86/100]\n"
     ]
    },
    {
     "name": "stderr",
     "output_type": "stream",
     "text": [
      "100%|██████████| 3750/3750 [00:10<00:00, 353.17it/s]\n",
      "100%|██████████| 313/313 [00:00<00:00, 712.99it/s]\n"
     ]
    },
    {
     "name": "stdout",
     "output_type": "stream",
     "text": [
      "\tTrain loss: 0.044630757159988085\n",
      "\t  Val loss: 0.044301351466879677\n",
      "Epoch: [87/100]\n"
     ]
    },
    {
     "name": "stderr",
     "output_type": "stream",
     "text": [
      "100%|██████████| 3750/3750 [00:12<00:00, 305.75it/s]\n",
      "100%|██████████| 313/313 [00:00<00:00, 666.19it/s]\n"
     ]
    },
    {
     "name": "stdout",
     "output_type": "stream",
     "text": [
      "\tTrain loss: 0.04452974975158771\n",
      "\t  Val loss: 0.04434147284339411\n",
      "Epoch: [88/100]\n"
     ]
    },
    {
     "name": "stderr",
     "output_type": "stream",
     "text": [
      "100%|██████████| 3750/3750 [00:13<00:00, 287.54it/s]\n",
      "100%|██████████| 313/313 [00:00<00:00, 671.68it/s]\n"
     ]
    },
    {
     "name": "stdout",
     "output_type": "stream",
     "text": [
      "\tTrain loss: 0.044405932666858036\n",
      "\t  Val loss: 0.04405954130255757\n",
      "Epoch: [89/100]\n"
     ]
    },
    {
     "name": "stderr",
     "output_type": "stream",
     "text": [
      "100%|██████████| 3750/3750 [00:11<00:00, 323.58it/s]\n",
      "100%|██████████| 313/313 [00:00<00:00, 704.96it/s]\n"
     ]
    },
    {
     "name": "stdout",
     "output_type": "stream",
     "text": [
      "\tTrain loss: 0.04430983930528164\n",
      "\t  Val loss: 0.043740707833450826\n",
      "Epoch: [90/100]\n"
     ]
    },
    {
     "name": "stderr",
     "output_type": "stream",
     "text": [
      "100%|██████████| 3750/3750 [00:10<00:00, 355.45it/s]\n",
      "100%|██████████| 313/313 [00:00<00:00, 704.96it/s]\n"
     ]
    },
    {
     "name": "stdout",
     "output_type": "stream",
     "text": [
      "\tTrain loss: 0.04417885824143886\n",
      "\t  Val loss: 0.043968169048380926\n",
      "Epoch: [91/100]\n"
     ]
    },
    {
     "name": "stderr",
     "output_type": "stream",
     "text": [
      "100%|██████████| 3750/3750 [00:10<00:00, 353.32it/s]\n",
      "100%|██████████| 313/313 [00:00<00:00, 712.99it/s]\n"
     ]
    },
    {
     "name": "stdout",
     "output_type": "stream",
     "text": [
      "\tTrain loss: 0.044080473413070045\n",
      "\t  Val loss: 0.04396935611868057\n",
      "Epoch: [92/100]\n"
     ]
    },
    {
     "name": "stderr",
     "output_type": "stream",
     "text": [
      "100%|██████████| 3750/3750 [00:10<00:00, 355.45it/s]\n",
      "100%|██████████| 313/313 [00:00<00:00, 701.80it/s]\n"
     ]
    },
    {
     "name": "stdout",
     "output_type": "stream",
     "text": [
      "\tTrain loss: 0.04396589899410804\n",
      "\t  Val loss: 0.04369997360502569\n",
      "Epoch: [93/100]\n"
     ]
    },
    {
     "name": "stderr",
     "output_type": "stream",
     "text": [
      "100%|██████████| 3750/3750 [00:12<00:00, 288.61it/s]\n",
      "100%|██████████| 313/313 [00:00<00:00, 706.55it/s]\n"
     ]
    },
    {
     "name": "stdout",
     "output_type": "stream",
     "text": [
      "\tTrain loss: 0.04386790336072445\n",
      "\t  Val loss: 0.04323722644688222\n",
      "Epoch: [94/100]\n"
     ]
    },
    {
     "name": "stderr",
     "output_type": "stream",
     "text": [
      "100%|██████████| 3750/3750 [00:12<00:00, 295.50it/s]\n",
      "100%|██████████| 313/313 [00:00<00:00, 690.95it/s]\n"
     ]
    },
    {
     "name": "stdout",
     "output_type": "stream",
     "text": [
      "\tTrain loss: 0.04374924805313349\n",
      "\t  Val loss: 0.04315690462962507\n",
      "Epoch: [95/100]\n"
     ]
    },
    {
     "name": "stderr",
     "output_type": "stream",
     "text": [
      "100%|██████████| 3750/3750 [00:12<00:00, 292.80it/s]\n",
      "100%|██████████| 313/313 [00:00<00:00, 665.96it/s]\n"
     ]
    },
    {
     "name": "stdout",
     "output_type": "stream",
     "text": [
      "\tTrain loss: 0.043664288837214314\n",
      "\t  Val loss: 0.04374098769439676\n",
      "Epoch: [96/100]\n"
     ]
    },
    {
     "name": "stderr",
     "output_type": "stream",
     "text": [
      "100%|██████████| 3750/3750 [00:12<00:00, 289.46it/s]\n",
      "100%|██████████| 313/313 [00:00<00:00, 698.66it/s]\n"
     ]
    },
    {
     "name": "stdout",
     "output_type": "stream",
     "text": [
      "\tTrain loss: 0.04354185911218325\n",
      "\t  Val loss: 0.04313860192133215\n",
      "Epoch: [97/100]\n"
     ]
    },
    {
     "name": "stderr",
     "output_type": "stream",
     "text": [
      "100%|██████████| 3750/3750 [00:12<00:00, 299.19it/s]\n",
      "100%|██████████| 313/313 [00:00<00:00, 698.57it/s]\n"
     ]
    },
    {
     "name": "stdout",
     "output_type": "stream",
     "text": [
      "\tTrain loss: 0.043443753428260484\n",
      "\t  Val loss: 0.04344396992994193\n",
      "Epoch: [98/100]\n"
     ]
    },
    {
     "name": "stderr",
     "output_type": "stream",
     "text": [
      "100%|██████████| 3750/3750 [00:12<00:00, 289.18it/s]\n",
      "100%|██████████| 313/313 [00:00<00:00, 689.43it/s]\n"
     ]
    },
    {
     "name": "stdout",
     "output_type": "stream",
     "text": [
      "\tTrain loss: 0.04333589076896509\n",
      "\t  Val loss: 0.04304322213553392\n",
      "Epoch: [99/100]\n"
     ]
    },
    {
     "name": "stderr",
     "output_type": "stream",
     "text": [
      "100%|██████████| 3750/3750 [00:12<00:00, 291.83it/s]\n",
      "100%|██████████| 313/313 [00:00<00:00, 700.23it/s]\n"
     ]
    },
    {
     "name": "stdout",
     "output_type": "stream",
     "text": [
      "\tTrain loss: 0.0432388966580232\n",
      "\t  Val loss: 0.04296065265901934\n",
      "Epoch: [100/100]\n"
     ]
    },
    {
     "name": "stderr",
     "output_type": "stream",
     "text": [
      "100%|██████████| 3750/3750 [00:12<00:00, 294.08it/s]\n",
      "100%|██████████| 313/313 [00:00<00:00, 689.00it/s]"
     ]
    },
    {
     "name": "stdout",
     "output_type": "stream",
     "text": [
      "\tTrain loss: 0.04313487798422575\n",
      "\t  Val loss: 0.04286629499528355\n"
     ]
    },
    {
     "name": "stderr",
     "output_type": "stream",
     "text": [
      "\n"
     ]
    }
   ],
   "source": [
    "train_loss_per_epoch = []\n",
    "valid_loss_per_epoch = []\n",
    "counter = 0\n",
    "best_model = None\n",
    "\n",
    "for epoch in range(EPOCHS):\n",
    "    print(\"Epoch: [{}/{}]\".format(epoch+1, EPOCHS))\n",
    "    train_loss = []\n",
    "    val_loss = []\n",
    "    for X, y in tqdm(train_dl):\n",
    "        X = X.to(device)\n",
    "        model.zero_grad()\n",
    "        rec_X = model(X)\n",
    "        loss = loss_func(X, rec_X)\n",
    "        train_loss.append(loss.item())\n",
    "        loss.backward()\n",
    "        optim.step()\n",
    "\n",
    "    for X, y in tqdm(val_dl):\n",
    "        with torch.no_grad():\n",
    "            X = X.to(device)\n",
    "            rec_X = model(X)\n",
    "            loss = loss_func(X, rec_X)\n",
    "            val_loss.append(loss.item())\n",
    "    \n",
    "    train_loss_per_epoch.append(sum(train_loss)/len(train_loss))\n",
    "    valid_loss_per_epoch.append(sum(val_loss)/len(val_loss))\n",
    "\n",
    "    if valid_loss_per_epoch[-1] == min(valid_loss_per_epoch):\n",
    "        counter = 0\n",
    "        best_model = deepcopy(model)\n",
    "    \n",
    "    else:\n",
    "        counter += 1\n",
    "\n",
    "    print(\"\\tTrain loss: {}\".format(train_loss_per_epoch[-1]))\n",
    "    print(\"\\t  Val loss: {}\".format(valid_loss_per_epoch[-1]))\n",
    "\n",
    "    if counter == 10:\n",
    "        print(\"\\nEarly stop: model is not converging\")\n",
    "        break"
   ]
  },
  {
   "cell_type": "code",
   "execution_count": 7,
   "metadata": {},
   "outputs": [
    {
     "data": {
      "image/png": "[encoded data removed]",
      "text/plain": [
       "<Figure size 640x480 with 1 Axes>"
      ]
     },
     "metadata": {},
     "output_type": "display_data"
    }
   ],
   "source": [
    "plt.plot(train_loss_per_epoch, label=\"train\")\n",
    "plt.plot(valid_loss_per_epoch, label=\"validation\")\n",
    "plt.legend()\n",
    "plt.title(\"Loss\")\n",
    "\n",
    "plt.show()"
   ]
  },
  {
   "cell_type": "code",
   "execution_count": 11,
   "metadata": {},
   "outputs": [
    {
     "data": {
      "image/png": "[encoded data removed]",
      "text/plain": [
       "<Figure size 1500x600 with 10 Axes>"
      ]
     },
     "metadata": {},
     "output_type": "display_data"
    }
   ],
   "source": [
    "\n",
    "fig, axs = plt.subplots(2, 5, figsize=(15, 6))\n",
    "i = 0\n",
    "skip = 5\n",
    "\n",
    "for image, label in test_dl:\n",
    "    if skip > 0:\n",
    "        skip -= 1\n",
    "        continue\n",
    "    \n",
    "    with torch.no_grad():\n",
    "        rec = best_model(image.to(device))\n",
    "\n",
    "    axs[0][i].imshow(image[0].squeeze(), cmap=\"gray\")\n",
    "    axs[1][i].imshow(rec[0].squeeze().cpu(), cmap=\"gray\")\n",
    "    axs[0][i].set_title(str(label))\n",
    "    axs[0][i].set_xticks([])\n",
    "    axs[0][i].set_yticks([])\n",
    "    axs[1][i].set_xticks([])\n",
    "    axs[1][i].set_yticks([])\n",
    "\n",
    "    i += 1\n",
    "\n",
    "    if i == 5:\n",
    "        break"
   ]
  },
  {
   "cell_type": "code",
   "execution_count": 9,
   "metadata": {},
   "outputs": [],
   "source": [
    "torch.save(best_model.state_dict(), \"auto_encoder/weights/ae_8_2_2.dat\")"
   ]
  }
 ],
 "metadata": {
  "kernelspec": {
   "display_name": "aega",
   "language": "python",
   "name": "python3"
  },
  "language_info": {
   "codemirror_mode": {
    "name": "ipython",
    "version": 3
   },
   "file_extension": ".py",
   "mimetype": "text/x-python",
   "name": "python",
   "nbconvert_exporter": "python",
   "pygments_lexer": "ipython3",
   "version": "3.11.7"
  }
 },
 "nbformat": 4,
 "nbformat_minor": 2
}
