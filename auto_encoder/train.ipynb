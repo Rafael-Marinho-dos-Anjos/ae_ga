{
 "cells": [
  {
   "cell_type": "code",
   "execution_count": 1,
   "metadata": {},
   "outputs": [],
   "source": [
    "import torch\n",
    "from tqdm import tqdm\n",
    "import matplotlib.pyplot as plt\n",
    "\n",
    "from copy import deepcopy"
   ]
  },
  {
   "cell_type": "code",
   "execution_count": 2,
   "metadata": {},
   "outputs": [],
   "source": [
    "from dataset.dataloader import train_dl, test_dl, val_dl\n",
    "from auto_encoder.model_422 import AutoEncoder"
   ]
  },
  {
   "cell_type": "code",
   "execution_count": 3,
   "metadata": {},
   "outputs": [
    {
     "data": {
      "text/plain": [
       "<matplotlib.image.AxesImage at 0x1d19c9827d0>"
      ]
     },
     "execution_count": 3,
     "metadata": {},
     "output_type": "execute_result"
    },
    {
     "data": {
      "image/png": "[encoded data removed]",
      "text/plain": [
       "<Figure size 640x480 with 1 Axes>"
      ]
     },
     "metadata": {},
     "output_type": "display_data"
    }
   ],
   "source": [
    "images, labels = next(iter(train_dl))\n",
    "\n",
    "plt.imshow(images[0].squeeze(), cmap=\"gray\")"
   ]
  },
  {
   "cell_type": "code",
   "execution_count": 4,
   "metadata": {},
   "outputs": [
    {
     "data": {
      "text/plain": [
       "device(type='cuda')"
      ]
     },
     "execution_count": 4,
     "metadata": {},
     "output_type": "execute_result"
    }
   ],
   "source": [
    "device = torch.device(\"cuda\" if torch.cuda.is_available() else \"cpu\")\n",
    "model = AutoEncoder(images.shape[1]).to(device)\n",
    "device"
   ]
  },
  {
   "cell_type": "code",
   "execution_count": 5,
   "metadata": {},
   "outputs": [],
   "source": [
    "EPOCHS = 150\n",
    "lr = 0.0001\n",
    "loss_func = torch.nn.L1Loss()\n",
    "optim = torch.optim.Adam(model.parameters(), lr=lr)"
   ]
  },
  {
   "cell_type": "code",
   "execution_count": 6,
   "metadata": {},
   "outputs": [
    {
     "name": "stdout",
     "output_type": "stream",
     "text": [
      "Epoch: [1/150]\n"
     ]
    },
    {
     "name": "stderr",
     "output_type": "stream",
     "text": [
      "100%|██████████| 3750/3750 [00:12<00:00, 300.98it/s]\n",
      "100%|██████████| 313/313 [00:00<00:00, 677.49it/s]\n"
     ]
    },
    {
     "name": "stdout",
     "output_type": "stream",
     "text": [
      "\tTrain loss: 0.13966161557038625\n",
      "\t  Val loss: 0.13142062197573268\n",
      "Epoch: [2/150]\n"
     ]
    },
    {
     "name": "stderr",
     "output_type": "stream",
     "text": [
      "100%|██████████| 3750/3750 [00:12<00:00, 294.90it/s]\n",
      "100%|██████████| 313/313 [00:00<00:00, 698.46it/s]\n"
     ]
    },
    {
     "name": "stdout",
     "output_type": "stream",
     "text": [
      "\tTrain loss: 0.12862369396885237\n",
      "\t  Val loss: 0.1300989217318285\n",
      "Epoch: [3/150]\n"
     ]
    },
    {
     "name": "stderr",
     "output_type": "stream",
     "text": [
      "100%|██████████| 3750/3750 [00:12<00:00, 300.78it/s]\n",
      "100%|██████████| 313/313 [00:00<00:00, 708.11it/s]\n"
     ]
    },
    {
     "name": "stdout",
     "output_type": "stream",
     "text": [
      "\tTrain loss: 0.12767527050773303\n",
      "\t  Val loss: 0.12913989394712752\n",
      "Epoch: [4/150]\n"
     ]
    },
    {
     "name": "stderr",
     "output_type": "stream",
     "text": [
      "100%|██████████| 3750/3750 [00:10<00:00, 346.35it/s]\n",
      "100%|██████████| 313/313 [00:00<00:00, 698.66it/s]\n"
     ]
    },
    {
     "name": "stdout",
     "output_type": "stream",
     "text": [
      "\tTrain loss: 0.12703349847197531\n",
      "\t  Val loss: 0.12864159956907692\n",
      "Epoch: [5/150]\n"
     ]
    },
    {
     "name": "stderr",
     "output_type": "stream",
     "text": [
      "100%|██████████| 3750/3750 [00:10<00:00, 355.45it/s]\n",
      "100%|██████████| 313/313 [00:00<00:00, 694.01it/s]\n"
     ]
    },
    {
     "name": "stdout",
     "output_type": "stream",
     "text": [
      "\tTrain loss: 0.12657630387743313\n",
      "\t  Val loss: 0.1281825490176868\n",
      "Epoch: [6/150]\n"
     ]
    },
    {
     "name": "stderr",
     "output_type": "stream",
     "text": [
      "100%|██████████| 3750/3750 [00:10<00:00, 350.16it/s]\n",
      "100%|██████████| 313/313 [00:00<00:00, 688.67it/s]\n"
     ]
    },
    {
     "name": "stdout",
     "output_type": "stream",
     "text": [
      "\tTrain loss: 0.12624397943814594\n",
      "\t  Val loss: 0.127887091840418\n",
      "Epoch: [7/150]\n"
     ]
    },
    {
     "name": "stderr",
     "output_type": "stream",
     "text": [
      "100%|██████████| 3750/3750 [00:10<00:00, 353.55it/s]\n",
      "100%|██████████| 313/313 [00:00<00:00, 711.15it/s]\n"
     ]
    },
    {
     "name": "stdout",
     "output_type": "stream",
     "text": [
      "\tTrain loss: 0.1260100047727426\n",
      "\t  Val loss: 0.12766292486518335\n",
      "Epoch: [8/150]\n"
     ]
    },
    {
     "name": "stderr",
     "output_type": "stream",
     "text": [
      "100%|██████████| 3750/3750 [00:12<00:00, 288.84it/s]\n",
      "100%|██████████| 313/313 [00:00<00:00, 338.04it/s]\n"
     ]
    },
    {
     "name": "stdout",
     "output_type": "stream",
     "text": [
      "\tTrain loss: 0.1258210442105929\n",
      "\t  Val loss: 0.12748122398560038\n",
      "Epoch: [9/150]\n"
     ]
    },
    {
     "name": "stderr",
     "output_type": "stream",
     "text": [
      "100%|██████████| 3750/3750 [00:16<00:00, 226.09it/s]\n",
      "100%|██████████| 313/313 [00:00<00:00, 706.70it/s]\n"
     ]
    },
    {
     "name": "stdout",
     "output_type": "stream",
     "text": [
      "\tTrain loss: 0.12566459936499597\n",
      "\t  Val loss: 0.1274543272944304\n",
      "Epoch: [10/150]\n"
     ]
    },
    {
     "name": "stderr",
     "output_type": "stream",
     "text": [
      "100%|██████████| 3750/3750 [00:10<00:00, 357.73it/s]\n",
      "100%|██████████| 313/313 [00:00<00:00, 708.15it/s]\n"
     ]
    },
    {
     "name": "stdout",
     "output_type": "stream",
     "text": [
      "\tTrain loss: 0.12552161690791447\n",
      "\t  Val loss: 0.12724698320650063\n",
      "Epoch: [11/150]\n"
     ]
    },
    {
     "name": "stderr",
     "output_type": "stream",
     "text": [
      "100%|██████████| 3750/3750 [00:10<00:00, 356.99it/s]\n",
      "100%|██████████| 313/313 [00:00<00:00, 721.01it/s]\n"
     ]
    },
    {
     "name": "stdout",
     "output_type": "stream",
     "text": [
      "\tTrain loss: 0.1254045485297839\n",
      "\t  Val loss: 0.12733374747891016\n",
      "Epoch: [12/150]\n"
     ]
    },
    {
     "name": "stderr",
     "output_type": "stream",
     "text": [
      "100%|██████████| 3750/3750 [00:12<00:00, 296.96it/s]\n",
      "100%|██████████| 313/313 [00:00<00:00, 328.26it/s]\n"
     ]
    },
    {
     "name": "stdout",
     "output_type": "stream",
     "text": [
      "\tTrain loss: 0.12507553168733915\n",
      "\t  Val loss: 0.12625433687870494\n",
      "Epoch: [13/150]\n"
     ]
    },
    {
     "name": "stderr",
     "output_type": "stream",
     "text": [
      "100%|██████████| 3750/3750 [00:22<00:00, 168.53it/s]\n",
      "100%|██████████| 313/313 [00:00<00:00, 656.19it/s]\n"
     ]
    },
    {
     "name": "stdout",
     "output_type": "stream",
     "text": [
      "\tTrain loss: 0.120972978023688\n",
      "\t  Val loss: 0.1178007561939593\n",
      "Epoch: [14/150]\n"
     ]
    },
    {
     "name": "stderr",
     "output_type": "stream",
     "text": [
      "100%|██████████| 3750/3750 [00:15<00:00, 241.81it/s]\n",
      "100%|██████████| 313/313 [00:00<00:00, 367.34it/s]\n"
     ]
    },
    {
     "name": "stdout",
     "output_type": "stream",
     "text": [
      "\tTrain loss: 0.11461178512175878\n",
      "\t  Val loss: 0.11390009060644875\n",
      "Epoch: [15/150]\n"
     ]
    },
    {
     "name": "stderr",
     "output_type": "stream",
     "text": [
      "100%|██████████| 3750/3750 [00:21<00:00, 172.90it/s]\n",
      "100%|██████████| 313/313 [00:00<00:00, 350.14it/s]\n"
     ]
    },
    {
     "name": "stdout",
     "output_type": "stream",
     "text": [
      "\tTrain loss: 0.11023220871885618\n",
      "\t  Val loss: 0.10903288288333546\n",
      "Epoch: [16/150]\n"
     ]
    },
    {
     "name": "stderr",
     "output_type": "stream",
     "text": [
      "100%|██████████| 3750/3750 [00:10<00:00, 343.59it/s]\n",
      "100%|██████████| 313/313 [00:00<00:00, 698.31it/s]\n"
     ]
    },
    {
     "name": "stdout",
     "output_type": "stream",
     "text": [
      "\tTrain loss: 0.10638929346998532\n",
      "\t  Val loss: 0.10597217451935759\n",
      "Epoch: [17/150]\n"
     ]
    },
    {
     "name": "stderr",
     "output_type": "stream",
     "text": [
      "100%|██████████| 3750/3750 [00:12<00:00, 294.73it/s]\n",
      "100%|██████████| 313/313 [00:00<00:00, 716.40it/s]\n"
     ]
    },
    {
     "name": "stdout",
     "output_type": "stream",
     "text": [
      "\tTrain loss: 0.10397531388600667\n",
      "\t  Val loss: 0.10384388584584094\n",
      "Epoch: [18/150]\n"
     ]
    },
    {
     "name": "stderr",
     "output_type": "stream",
     "text": [
      "100%|██████████| 3750/3750 [00:12<00:00, 299.56it/s]\n",
      "100%|██████████| 313/313 [00:00<00:00, 695.30it/s]\n"
     ]
    },
    {
     "name": "stdout",
     "output_type": "stream",
     "text": [
      "\tTrain loss: 0.10210354697902997\n",
      "\t  Val loss: 0.10198261945868453\n",
      "Epoch: [19/150]\n"
     ]
    },
    {
     "name": "stderr",
     "output_type": "stream",
     "text": [
      "100%|██████████| 3750/3750 [00:12<00:00, 295.90it/s]\n",
      "100%|██████████| 313/313 [00:00<00:00, 694.01it/s]\n"
     ]
    },
    {
     "name": "stdout",
     "output_type": "stream",
     "text": [
      "\tTrain loss: 0.10043396159013113\n",
      "\t  Val loss: 0.10038876250243416\n",
      "Epoch: [20/150]\n"
     ]
    },
    {
     "name": "stderr",
     "output_type": "stream",
     "text": [
      "100%|██████████| 3750/3750 [00:12<00:00, 298.06it/s]\n",
      "100%|██████████| 313/313 [00:00<00:00, 708.15it/s]\n"
     ]
    },
    {
     "name": "stdout",
     "output_type": "stream",
     "text": [
      "\tTrain loss: 0.09888193943699201\n",
      "\t  Val loss: 0.09889003613029425\n",
      "Epoch: [21/150]\n"
     ]
    },
    {
     "name": "stderr",
     "output_type": "stream",
     "text": [
      "100%|██████████| 3750/3750 [00:12<00:00, 302.39it/s]\n",
      "100%|██████████| 313/313 [00:00<00:00, 712.20it/s]\n"
     ]
    },
    {
     "name": "stdout",
     "output_type": "stream",
     "text": [
      "\tTrain loss: 0.097422371027867\n",
      "\t  Val loss: 0.0974077955602457\n",
      "Epoch: [22/150]\n"
     ]
    },
    {
     "name": "stderr",
     "output_type": "stream",
     "text": [
      "100%|██████████| 3750/3750 [00:12<00:00, 293.55it/s]\n",
      "100%|██████████| 313/313 [00:00<00:00, 704.43it/s]\n"
     ]
    },
    {
     "name": "stdout",
     "output_type": "stream",
     "text": [
      "\tTrain loss: 0.09606895189285278\n",
      "\t  Val loss: 0.09602049366829875\n",
      "Epoch: [23/150]\n"
     ]
    },
    {
     "name": "stderr",
     "output_type": "stream",
     "text": [
      "100%|██████████| 3750/3750 [00:12<00:00, 302.97it/s]\n",
      "100%|██████████| 313/313 [00:00<00:00, 715.68it/s]\n"
     ]
    },
    {
     "name": "stdout",
     "output_type": "stream",
     "text": [
      "\tTrain loss: 0.0948331333398819\n",
      "\t  Val loss: 0.09493397490475505\n",
      "Epoch: [24/150]\n"
     ]
    },
    {
     "name": "stderr",
     "output_type": "stream",
     "text": [
      "100%|██████████| 3750/3750 [00:12<00:00, 295.26it/s]\n",
      "100%|██████████| 313/313 [00:00<00:00, 695.56it/s]\n"
     ]
    },
    {
     "name": "stdout",
     "output_type": "stream",
     "text": [
      "\tTrain loss: 0.09373578124841055\n",
      "\t  Val loss: 0.0937567352534483\n",
      "Epoch: [25/150]\n"
     ]
    },
    {
     "name": "stderr",
     "output_type": "stream",
     "text": [
      "100%|██████████| 3750/3750 [00:12<00:00, 297.73it/s]\n",
      "100%|██████████| 313/313 [00:00<00:00, 698.38it/s]\n"
     ]
    },
    {
     "name": "stdout",
     "output_type": "stream",
     "text": [
      "\tTrain loss: 0.09274252827366193\n",
      "\t  Val loss: 0.0928886898647482\n",
      "Epoch: [26/150]\n"
     ]
    },
    {
     "name": "stderr",
     "output_type": "stream",
     "text": [
      "100%|██████████| 3750/3750 [00:12<00:00, 297.09it/s]\n",
      "100%|██████████| 313/313 [00:00<00:00, 697.02it/s]\n"
     ]
    },
    {
     "name": "stdout",
     "output_type": "stream",
     "text": [
      "\tTrain loss: 0.09182794814904531\n",
      "\t  Val loss: 0.09198209686210743\n",
      "Epoch: [27/150]\n"
     ]
    },
    {
     "name": "stderr",
     "output_type": "stream",
     "text": [
      "100%|██████████| 3750/3750 [00:12<00:00, 292.08it/s]\n",
      "100%|██████████| 313/313 [00:00<00:00, 695.29it/s]\n"
     ]
    },
    {
     "name": "stdout",
     "output_type": "stream",
     "text": [
      "\tTrain loss: 0.09095415717959404\n",
      "\t  Val loss: 0.09106018575140462\n",
      "Epoch: [28/150]\n"
     ]
    },
    {
     "name": "stderr",
     "output_type": "stream",
     "text": [
      "100%|██████████| 3750/3750 [00:12<00:00, 311.34it/s]\n",
      "100%|██████████| 313/313 [00:00<00:00, 721.47it/s]\n"
     ]
    },
    {
     "name": "stdout",
     "output_type": "stream",
     "text": [
      "\tTrain loss: 0.09013689055840174\n",
      "\t  Val loss: 0.09011119756454858\n",
      "Epoch: [29/150]\n"
     ]
    },
    {
     "name": "stderr",
     "output_type": "stream",
     "text": [
      "100%|██████████| 3750/3750 [00:11<00:00, 320.14it/s]\n",
      "100%|██████████| 313/313 [00:00<00:00, 697.56it/s]\n"
     ]
    },
    {
     "name": "stdout",
     "output_type": "stream",
     "text": [
      "\tTrain loss: 0.08937201578219732\n",
      "\t  Val loss: 0.08938293423229894\n",
      "Epoch: [30/150]\n"
     ]
    },
    {
     "name": "stderr",
     "output_type": "stream",
     "text": [
      "100%|██████████| 3750/3750 [00:10<00:00, 355.46it/s]\n",
      "100%|██████████| 313/313 [00:00<00:00, 717.01it/s]\n"
     ]
    },
    {
     "name": "stdout",
     "output_type": "stream",
     "text": [
      "\tTrain loss: 0.08864476387302081\n",
      "\t  Val loss: 0.08877371580075151\n",
      "Epoch: [31/150]\n"
     ]
    },
    {
     "name": "stderr",
     "output_type": "stream",
     "text": [
      "100%|██████████| 3750/3750 [00:10<00:00, 353.62it/s]\n",
      "100%|██████████| 313/313 [00:00<00:00, 716.30it/s]\n"
     ]
    },
    {
     "name": "stdout",
     "output_type": "stream",
     "text": [
      "\tTrain loss: 0.08796108802954355\n",
      "\t  Val loss: 0.08802191163309085\n",
      "Epoch: [32/150]\n"
     ]
    },
    {
     "name": "stderr",
     "output_type": "stream",
     "text": [
      "100%|██████████| 3750/3750 [00:10<00:00, 354.27it/s]\n",
      "100%|██████████| 313/313 [00:00<00:00, 667.41it/s]\n"
     ]
    },
    {
     "name": "stdout",
     "output_type": "stream",
     "text": [
      "\tTrain loss: 0.08730691913366317\n",
      "\t  Val loss: 0.08725287808111301\n",
      "Epoch: [33/150]\n"
     ]
    },
    {
     "name": "stderr",
     "output_type": "stream",
     "text": [
      "100%|██████████| 3750/3750 [00:10<00:00, 357.03it/s]\n",
      "100%|██████████| 313/313 [00:00<00:00, 714.22it/s]\n"
     ]
    },
    {
     "name": "stdout",
     "output_type": "stream",
     "text": [
      "\tTrain loss: 0.08668507049679756\n",
      "\t  Val loss: 0.08664908524328908\n",
      "Epoch: [34/150]\n"
     ]
    },
    {
     "name": "stderr",
     "output_type": "stream",
     "text": [
      "100%|██████████| 3750/3750 [00:10<00:00, 356.73it/s]\n",
      "100%|██████████| 313/313 [00:00<00:00, 686.01it/s]\n"
     ]
    },
    {
     "name": "stdout",
     "output_type": "stream",
     "text": [
      "\tTrain loss: 0.08608728356957436\n",
      "\t  Val loss: 0.08612492578193402\n",
      "Epoch: [35/150]\n"
     ]
    },
    {
     "name": "stderr",
     "output_type": "stream",
     "text": [
      "100%|██████████| 3750/3750 [00:10<00:00, 355.13it/s]\n",
      "100%|██████████| 313/313 [00:00<00:00, 703.24it/s]\n"
     ]
    },
    {
     "name": "stdout",
     "output_type": "stream",
     "text": [
      "\tTrain loss: 0.08550974611739318\n",
      "\t  Val loss: 0.08559906016142604\n",
      "Epoch: [36/150]\n"
     ]
    },
    {
     "name": "stderr",
     "output_type": "stream",
     "text": [
      "100%|██████████| 3750/3750 [00:11<00:00, 332.33it/s]\n",
      "100%|██████████| 313/313 [00:00<00:00, 729.91it/s]\n"
     ]
    },
    {
     "name": "stdout",
     "output_type": "stream",
     "text": [
      "\tTrain loss: 0.08494586345950762\n",
      "\t  Val loss: 0.08492911285676133\n",
      "Epoch: [37/150]\n"
     ]
    },
    {
     "name": "stderr",
     "output_type": "stream",
     "text": [
      "100%|██████████| 3750/3750 [00:12<00:00, 310.07it/s]\n",
      "100%|██████████| 313/313 [00:00<00:00, 704.83it/s]\n"
     ]
    },
    {
     "name": "stdout",
     "output_type": "stream",
     "text": [
      "\tTrain loss: 0.0843940682152907\n",
      "\t  Val loss: 0.08445890514424052\n",
      "Epoch: [38/150]\n"
     ]
    },
    {
     "name": "stderr",
     "output_type": "stream",
     "text": [
      "100%|██████████| 3750/3750 [00:10<00:00, 352.96it/s]\n",
      "100%|██████████| 313/313 [00:00<00:00, 739.72it/s]\n"
     ]
    },
    {
     "name": "stdout",
     "output_type": "stream",
     "text": [
      "\tTrain loss: 0.08384434700409571\n",
      "\t  Val loss: 0.08369413149147369\n",
      "Epoch: [39/150]\n"
     ]
    },
    {
     "name": "stderr",
     "output_type": "stream",
     "text": [
      "100%|██████████| 3750/3750 [00:10<00:00, 369.43it/s]\n",
      "100%|██████████| 313/313 [00:00<00:00, 751.02it/s]\n"
     ]
    },
    {
     "name": "stdout",
     "output_type": "stream",
     "text": [
      "\tTrain loss: 0.08331362169484298\n",
      "\t  Val loss: 0.08309358784470695\n",
      "Epoch: [40/150]\n"
     ]
    },
    {
     "name": "stderr",
     "output_type": "stream",
     "text": [
      "100%|██████████| 3750/3750 [00:10<00:00, 369.73it/s]\n",
      "100%|██████████| 313/313 [00:00<00:00, 725.86it/s]\n"
     ]
    },
    {
     "name": "stdout",
     "output_type": "stream",
     "text": [
      "\tTrain loss: 0.08277702465852102\n",
      "\t  Val loss: 0.08266057159763555\n",
      "Epoch: [41/150]\n"
     ]
    },
    {
     "name": "stderr",
     "output_type": "stream",
     "text": [
      "100%|██████████| 3750/3750 [00:10<00:00, 362.05it/s]\n",
      "100%|██████████| 313/313 [00:00<00:00, 699.96it/s]\n"
     ]
    },
    {
     "name": "stdout",
     "output_type": "stream",
     "text": [
      "\tTrain loss: 0.08224755621850491\n",
      "\t  Val loss: 0.08232154963782039\n",
      "Epoch: [42/150]\n"
     ]
    },
    {
     "name": "stderr",
     "output_type": "stream",
     "text": [
      "100%|██████████| 3750/3750 [00:12<00:00, 298.91it/s]\n",
      "100%|██████████| 313/313 [00:00<00:00, 714.28it/s]\n"
     ]
    },
    {
     "name": "stdout",
     "output_type": "stream",
     "text": [
      "\tTrain loss: 0.08174209187527498\n",
      "\t  Val loss: 0.08152782586150276\n",
      "Epoch: [43/150]\n"
     ]
    },
    {
     "name": "stderr",
     "output_type": "stream",
     "text": [
      "100%|██████████| 3750/3750 [00:12<00:00, 298.91it/s]\n",
      "100%|██████████| 313/313 [00:00<00:00, 708.26it/s]\n"
     ]
    },
    {
     "name": "stdout",
     "output_type": "stream",
     "text": [
      "\tTrain loss: 0.08122896734078726\n",
      "\t  Val loss: 0.08121146128390924\n",
      "Epoch: [44/150]\n"
     ]
    },
    {
     "name": "stderr",
     "output_type": "stream",
     "text": [
      "100%|██████████| 3750/3750 [00:11<00:00, 333.30it/s]\n",
      "100%|██████████| 313/313 [00:00<00:00, 709.75it/s]\n"
     ]
    },
    {
     "name": "stdout",
     "output_type": "stream",
     "text": [
      "\tTrain loss: 0.08072803182005882\n",
      "\t  Val loss: 0.08061617962754192\n",
      "Epoch: [45/150]\n"
     ]
    },
    {
     "name": "stderr",
     "output_type": "stream",
     "text": [
      "100%|██████████| 3750/3750 [00:10<00:00, 356.33it/s]\n",
      "100%|██████████| 313/313 [00:00<00:00, 709.75it/s]\n"
     ]
    },
    {
     "name": "stdout",
     "output_type": "stream",
     "text": [
      "\tTrain loss: 0.08022984969814619\n",
      "\t  Val loss: 0.08018720611787071\n",
      "Epoch: [46/150]\n"
     ]
    },
    {
     "name": "stderr",
     "output_type": "stream",
     "text": [
      "100%|██████████| 3750/3750 [00:10<00:00, 357.52it/s]\n",
      "100%|██████████| 313/313 [00:00<00:00, 706.55it/s]\n"
     ]
    },
    {
     "name": "stdout",
     "output_type": "stream",
     "text": [
      "\tTrain loss: 0.07973195872406165\n",
      "\t  Val loss: 0.07949355761178385\n",
      "Epoch: [47/150]\n"
     ]
    },
    {
     "name": "stderr",
     "output_type": "stream",
     "text": [
      "100%|██████████| 3750/3750 [00:12<00:00, 298.48it/s]\n",
      "100%|██████████| 313/313 [00:00<00:00, 684.90it/s]\n"
     ]
    },
    {
     "name": "stdout",
     "output_type": "stream",
     "text": [
      "\tTrain loss: 0.07923622927467028\n",
      "\t  Val loss: 0.07892851345836165\n",
      "Epoch: [48/150]\n"
     ]
    },
    {
     "name": "stderr",
     "output_type": "stream",
     "text": [
      "100%|██████████| 3750/3750 [00:12<00:00, 296.78it/s]\n",
      "100%|██████████| 313/313 [00:00<00:00, 690.95it/s]\n"
     ]
    },
    {
     "name": "stdout",
     "output_type": "stream",
     "text": [
      "\tTrain loss: 0.07875375615259012\n",
      "\t  Val loss: 0.07853727165264443\n",
      "Epoch: [49/150]\n"
     ]
    },
    {
     "name": "stderr",
     "output_type": "stream",
     "text": [
      "100%|██████████| 3750/3750 [00:12<00:00, 306.57it/s]\n",
      "100%|██████████| 313/313 [00:00<00:00, 700.71it/s]\n"
     ]
    },
    {
     "name": "stdout",
     "output_type": "stream",
     "text": [
      "\tTrain loss: 0.07828284010291099\n",
      "\t  Val loss: 0.07800024733566248\n",
      "Epoch: [50/150]\n"
     ]
    },
    {
     "name": "stderr",
     "output_type": "stream",
     "text": [
      "100%|██████████| 3750/3750 [00:12<00:00, 298.37it/s]\n",
      "100%|██████████| 313/313 [00:00<00:00, 719.54it/s]\n"
     ]
    },
    {
     "name": "stdout",
     "output_type": "stream",
     "text": [
      "\tTrain loss: 0.07780138766964277\n",
      "\t  Val loss: 0.07756497537175687\n",
      "Epoch: [51/150]\n"
     ]
    },
    {
     "name": "stderr",
     "output_type": "stream",
     "text": [
      "100%|██████████| 3750/3750 [00:12<00:00, 302.37it/s]\n",
      "100%|██████████| 313/313 [00:00<00:00, 719.54it/s]\n"
     ]
    },
    {
     "name": "stdout",
     "output_type": "stream",
     "text": [
      "\tTrain loss: 0.07731390118400255\n",
      "\t  Val loss: 0.07708313026890969\n",
      "Epoch: [52/150]\n"
     ]
    },
    {
     "name": "stderr",
     "output_type": "stream",
     "text": [
      "100%|██████████| 3750/3750 [00:12<00:00, 299.19it/s]\n",
      "100%|██████████| 313/313 [00:00<00:00, 701.10it/s]\n"
     ]
    },
    {
     "name": "stdout",
     "output_type": "stream",
     "text": [
      "\tTrain loss: 0.07683579302728176\n",
      "\t  Val loss: 0.07679870564002579\n",
      "Epoch: [53/150]\n"
     ]
    },
    {
     "name": "stderr",
     "output_type": "stream",
     "text": [
      "100%|██████████| 3750/3750 [00:10<00:00, 341.56it/s]\n",
      "100%|██████████| 313/313 [00:00<00:00, 704.82it/s]\n"
     ]
    },
    {
     "name": "stdout",
     "output_type": "stream",
     "text": [
      "\tTrain loss: 0.0763691382219394\n",
      "\t  Val loss: 0.07596957857330768\n",
      "Epoch: [54/150]\n"
     ]
    },
    {
     "name": "stderr",
     "output_type": "stream",
     "text": [
      "100%|██████████| 3750/3750 [00:12<00:00, 302.64it/s]\n",
      "100%|██████████| 313/313 [00:00<00:00, 690.70it/s]\n"
     ]
    },
    {
     "name": "stdout",
     "output_type": "stream",
     "text": [
      "\tTrain loss: 0.07589133441547553\n",
      "\t  Val loss: 0.07557923697863524\n",
      "Epoch: [55/150]\n"
     ]
    },
    {
     "name": "stderr",
     "output_type": "stream",
     "text": [
      "100%|██████████| 3750/3750 [00:12<00:00, 293.99it/s]\n",
      "100%|██████████| 313/313 [00:00<00:00, 695.56it/s]\n"
     ]
    },
    {
     "name": "stdout",
     "output_type": "stream",
     "text": [
      "\tTrain loss: 0.07541673054297765\n",
      "\t  Val loss: 0.07509894673816693\n",
      "Epoch: [56/150]\n"
     ]
    },
    {
     "name": "stderr",
     "output_type": "stream",
     "text": [
      "100%|██████████| 3750/3750 [00:12<00:00, 294.92it/s]\n",
      "100%|██████████| 313/313 [00:00<00:00, 692.48it/s]\n"
     ]
    },
    {
     "name": "stdout",
     "output_type": "stream",
     "text": [
      "\tTrain loss: 0.0749236512452364\n",
      "\t  Val loss: 0.07465907921806311\n",
      "Epoch: [57/150]\n"
     ]
    },
    {
     "name": "stderr",
     "output_type": "stream",
     "text": [
      "100%|██████████| 3750/3750 [00:12<00:00, 299.55it/s]\n",
      "100%|██████████| 313/313 [00:00<00:00, 692.48it/s]\n"
     ]
    },
    {
     "name": "stdout",
     "output_type": "stream",
     "text": [
      "\tTrain loss: 0.07443840829133988\n",
      "\t  Val loss: 0.07407583389133691\n",
      "Epoch: [58/150]\n"
     ]
    },
    {
     "name": "stderr",
     "output_type": "stream",
     "text": [
      "100%|██████████| 3750/3750 [00:12<00:00, 292.53it/s]\n",
      "100%|██████████| 313/313 [00:00<00:00, 690.95it/s]\n"
     ]
    },
    {
     "name": "stdout",
     "output_type": "stream",
     "text": [
      "\tTrain loss: 0.07396221355895201\n",
      "\t  Val loss: 0.07348522351096613\n",
      "Epoch: [59/150]\n"
     ]
    },
    {
     "name": "stderr",
     "output_type": "stream",
     "text": [
      "100%|██████████| 3750/3750 [00:12<00:00, 298.87it/s]\n",
      "100%|██████████| 313/313 [00:00<00:00, 689.43it/s]\n"
     ]
    },
    {
     "name": "stdout",
     "output_type": "stream",
     "text": [
      "\tTrain loss: 0.07347345514992873\n",
      "\t  Val loss: 0.0731528670357439\n",
      "Epoch: [60/150]\n"
     ]
    },
    {
     "name": "stderr",
     "output_type": "stream",
     "text": [
      "100%|██████████| 3750/3750 [00:12<00:00, 306.33it/s]\n",
      "100%|██████████| 313/313 [00:00<00:00, 684.86it/s]\n"
     ]
    },
    {
     "name": "stdout",
     "output_type": "stream",
     "text": [
      "\tTrain loss: 0.07297687100569407\n",
      "\t  Val loss: 0.07246554116852368\n",
      "Epoch: [61/150]\n"
     ]
    },
    {
     "name": "stderr",
     "output_type": "stream",
     "text": [
      "100%|██████████| 3750/3750 [00:10<00:00, 356.03it/s]\n",
      "100%|██████████| 313/313 [00:00<00:00, 706.55it/s]\n"
     ]
    },
    {
     "name": "stdout",
     "output_type": "stream",
     "text": [
      "\tTrain loss: 0.07249012127121289\n",
      "\t  Val loss: 0.07205468735184532\n",
      "Epoch: [62/150]\n"
     ]
    },
    {
     "name": "stderr",
     "output_type": "stream",
     "text": [
      "100%|██████████| 3750/3750 [00:10<00:00, 358.74it/s]\n",
      "100%|██████████| 313/313 [00:00<00:00, 689.43it/s]\n"
     ]
    },
    {
     "name": "stdout",
     "output_type": "stream",
     "text": [
      "\tTrain loss: 0.07198263889551162\n",
      "\t  Val loss: 0.07164160282419513\n",
      "Epoch: [63/150]\n"
     ]
    },
    {
     "name": "stderr",
     "output_type": "stream",
     "text": [
      "100%|██████████| 3750/3750 [00:10<00:00, 358.12it/s]\n",
      "100%|██████████| 313/313 [00:00<00:00, 677.38it/s]\n"
     ]
    },
    {
     "name": "stdout",
     "output_type": "stream",
     "text": [
      "\tTrain loss: 0.07149842628538608\n",
      "\t  Val loss: 0.07120394730529846\n",
      "Epoch: [64/150]\n"
     ]
    },
    {
     "name": "stderr",
     "output_type": "stream",
     "text": [
      "100%|██████████| 3750/3750 [00:10<00:00, 359.62it/s]\n",
      "100%|██████████| 313/313 [00:00<00:00, 708.15it/s]\n"
     ]
    },
    {
     "name": "stdout",
     "output_type": "stream",
     "text": [
      "\tTrain loss: 0.07100110523502032\n",
      "\t  Val loss: 0.07051942208276009\n",
      "Epoch: [65/150]\n"
     ]
    },
    {
     "name": "stderr",
     "output_type": "stream",
     "text": [
      "100%|██████████| 3750/3750 [00:10<00:00, 356.31it/s]\n",
      "100%|██████████| 313/313 [00:00<00:00, 711.37it/s]\n"
     ]
    },
    {
     "name": "stdout",
     "output_type": "stream",
     "text": [
      "\tTrain loss: 0.07048515343268712\n",
      "\t  Val loss: 0.07005457857403512\n",
      "Epoch: [66/150]\n"
     ]
    },
    {
     "name": "stderr",
     "output_type": "stream",
     "text": [
      "100%|██████████| 3750/3750 [00:10<00:00, 348.30it/s]\n",
      "100%|██████████| 313/313 [00:00<00:00, 712.99it/s]\n"
     ]
    },
    {
     "name": "stdout",
     "output_type": "stream",
     "text": [
      "\tTrain loss: 0.07000839595198631\n",
      "\t  Val loss: 0.06982093218702097\n",
      "Epoch: [67/150]\n"
     ]
    },
    {
     "name": "stderr",
     "output_type": "stream",
     "text": [
      "100%|██████████| 3750/3750 [00:10<00:00, 360.47it/s]\n",
      "100%|██████████| 313/313 [00:00<00:00, 719.54it/s]\n"
     ]
    },
    {
     "name": "stdout",
     "output_type": "stream",
     "text": [
      "\tTrain loss: 0.06951143505771955\n",
      "\t  Val loss: 0.06898468847091967\n",
      "Epoch: [68/150]\n"
     ]
    },
    {
     "name": "stderr",
     "output_type": "stream",
     "text": [
      "100%|██████████| 3750/3750 [00:10<00:00, 357.36it/s]\n",
      "100%|██████████| 313/313 [00:00<00:00, 721.66it/s]\n"
     ]
    },
    {
     "name": "stdout",
     "output_type": "stream",
     "text": [
      "\tTrain loss: 0.06902962574263413\n",
      "\t  Val loss: 0.06868198729408816\n",
      "Epoch: [69/150]\n"
     ]
    },
    {
     "name": "stderr",
     "output_type": "stream",
     "text": [
      "100%|██████████| 3750/3750 [00:10<00:00, 360.96it/s]\n",
      "100%|██████████| 313/313 [00:00<00:00, 724.54it/s]\n"
     ]
    },
    {
     "name": "stdout",
     "output_type": "stream",
     "text": [
      "\tTrain loss: 0.06853238700926303\n",
      "\t  Val loss: 0.06799589210567764\n",
      "Epoch: [70/150]\n"
     ]
    },
    {
     "name": "stderr",
     "output_type": "stream",
     "text": [
      "100%|██████████| 3750/3750 [00:10<00:00, 357.62it/s]\n",
      "100%|██████████| 313/313 [00:00<00:00, 723.97it/s]\n"
     ]
    },
    {
     "name": "stdout",
     "output_type": "stream",
     "text": [
      "\tTrain loss: 0.06803922735551993\n",
      "\t  Val loss: 0.0676021982496158\n",
      "Epoch: [71/150]\n"
     ]
    },
    {
     "name": "stderr",
     "output_type": "stream",
     "text": [
      "100%|██████████| 3750/3750 [00:10<00:00, 356.78it/s]\n",
      "100%|██████████| 313/313 [00:00<00:00, 681.92it/s]\n"
     ]
    },
    {
     "name": "stdout",
     "output_type": "stream",
     "text": [
      "\tTrain loss: 0.06754665688276291\n",
      "\t  Val loss: 0.06681883933778388\n",
      "Epoch: [72/150]\n"
     ]
    },
    {
     "name": "stderr",
     "output_type": "stream",
     "text": [
      "100%|██████████| 3750/3750 [00:12<00:00, 297.71it/s]\n",
      "100%|██████████| 313/313 [00:00<00:00, 687.85it/s]\n"
     ]
    },
    {
     "name": "stdout",
     "output_type": "stream",
     "text": [
      "\tTrain loss: 0.06706280084252357\n",
      "\t  Val loss: 0.06639640577161274\n",
      "Epoch: [73/150]\n"
     ]
    },
    {
     "name": "stderr",
     "output_type": "stream",
     "text": [
      "100%|██████████| 3750/3750 [00:12<00:00, 292.77it/s]\n",
      "100%|██████████| 313/313 [00:00<00:00, 688.96it/s]\n"
     ]
    },
    {
     "name": "stdout",
     "output_type": "stream",
     "text": [
      "\tTrain loss: 0.06657695476313433\n",
      "\t  Val loss: 0.06585570960380017\n",
      "Epoch: [74/150]\n"
     ]
    },
    {
     "name": "stderr",
     "output_type": "stream",
     "text": [
      "100%|██████████| 3750/3750 [00:10<00:00, 356.88it/s]\n",
      "100%|██████████| 313/313 [00:00<00:00, 697.11it/s]\n"
     ]
    },
    {
     "name": "stdout",
     "output_type": "stream",
     "text": [
      "\tTrain loss: 0.06609228131572406\n",
      "\t  Val loss: 0.06558804304455035\n",
      "Epoch: [75/150]\n"
     ]
    },
    {
     "name": "stderr",
     "output_type": "stream",
     "text": [
      "100%|██████████| 3750/3750 [00:10<00:00, 355.88it/s]\n",
      "100%|██████████| 313/313 [00:00<00:00, 709.75it/s]\n"
     ]
    },
    {
     "name": "stdout",
     "output_type": "stream",
     "text": [
      "\tTrain loss: 0.06561438147127628\n",
      "\t  Val loss: 0.06488697595013597\n",
      "Epoch: [76/150]\n"
     ]
    },
    {
     "name": "stderr",
     "output_type": "stream",
     "text": [
      "100%|██████████| 3750/3750 [00:10<00:00, 357.40it/s]\n",
      "100%|██████████| 313/313 [00:00<00:00, 708.97it/s]\n"
     ]
    },
    {
     "name": "stdout",
     "output_type": "stream",
     "text": [
      "\tTrain loss: 0.06513509223163128\n",
      "\t  Val loss: 0.06481189960346054\n",
      "Epoch: [77/150]\n"
     ]
    },
    {
     "name": "stderr",
     "output_type": "stream",
     "text": [
      "100%|██████████| 3750/3750 [00:12<00:00, 301.16it/s]\n",
      "100%|██████████| 313/313 [00:00<00:00, 691.71it/s]\n"
     ]
    },
    {
     "name": "stdout",
     "output_type": "stream",
     "text": [
      "\tTrain loss: 0.0646713718354702\n",
      "\t  Val loss: 0.06409595784145042\n",
      "Epoch: [78/150]\n"
     ]
    },
    {
     "name": "stderr",
     "output_type": "stream",
     "text": [
      "100%|██████████| 3750/3750 [00:12<00:00, 297.26it/s]\n",
      "100%|██████████| 313/313 [00:00<00:00, 689.43it/s]\n"
     ]
    },
    {
     "name": "stdout",
     "output_type": "stream",
     "text": [
      "\tTrain loss: 0.0641926549444596\n",
      "\t  Val loss: 0.06373075286325175\n",
      "Epoch: [79/150]\n"
     ]
    },
    {
     "name": "stderr",
     "output_type": "stream",
     "text": [
      "100%|██████████| 3750/3750 [00:12<00:00, 297.70it/s]\n",
      "100%|██████████| 313/313 [00:00<00:00, 707.83it/s]\n"
     ]
    },
    {
     "name": "stdout",
     "output_type": "stream",
     "text": [
      "\tTrain loss: 0.06375273447235426\n",
      "\t  Val loss: 0.06285246630636648\n",
      "Epoch: [80/150]\n"
     ]
    },
    {
     "name": "stderr",
     "output_type": "stream",
     "text": [
      "100%|██████████| 3750/3750 [00:11<00:00, 330.35it/s]\n",
      "100%|██████████| 313/313 [00:00<00:00, 709.13it/s]\n"
     ]
    },
    {
     "name": "stdout",
     "output_type": "stream",
     "text": [
      "\tTrain loss: 0.06329027295807997\n",
      "\t  Val loss: 0.06260903687856068\n",
      "Epoch: [81/150]\n"
     ]
    },
    {
     "name": "stderr",
     "output_type": "stream",
     "text": [
      "100%|██████████| 3750/3750 [00:12<00:00, 292.13it/s]\n",
      "100%|██████████| 313/313 [00:00<00:00, 711.37it/s]\n"
     ]
    },
    {
     "name": "stdout",
     "output_type": "stream",
     "text": [
      "\tTrain loss: 0.06285887700517973\n",
      "\t  Val loss: 0.06212424789183437\n",
      "Epoch: [82/150]\n"
     ]
    },
    {
     "name": "stderr",
     "output_type": "stream",
     "text": [
      "100%|██████████| 3750/3750 [00:12<00:00, 303.05it/s]\n",
      "100%|██████████| 313/313 [00:00<00:00, 703.12it/s]\n"
     ]
    },
    {
     "name": "stdout",
     "output_type": "stream",
     "text": [
      "\tTrain loss: 0.06241587310930093\n",
      "\t  Val loss: 0.06175896884819951\n",
      "Epoch: [83/150]\n"
     ]
    },
    {
     "name": "stderr",
     "output_type": "stream",
     "text": [
      "100%|██████████| 3750/3750 [00:12<00:00, 297.60it/s]\n",
      "100%|██████████| 313/313 [00:00<00:00, 679.69it/s]\n"
     ]
    },
    {
     "name": "stdout",
     "output_type": "stream",
     "text": [
      "\tTrain loss: 0.06198251176675161\n",
      "\t  Val loss: 0.0612624856039358\n",
      "Epoch: [84/150]\n"
     ]
    },
    {
     "name": "stderr",
     "output_type": "stream",
     "text": [
      "100%|██████████| 3750/3750 [00:12<00:00, 295.78it/s]\n",
      "100%|██████████| 313/313 [00:00<00:00, 698.66it/s]\n"
     ]
    },
    {
     "name": "stdout",
     "output_type": "stream",
     "text": [
      "\tTrain loss: 0.06158990620275338\n",
      "\t  Val loss: 0.0615928628074285\n",
      "Epoch: [85/150]\n"
     ]
    },
    {
     "name": "stderr",
     "output_type": "stream",
     "text": [
      "100%|██████████| 3750/3750 [00:11<00:00, 326.41it/s]\n",
      "100%|██████████| 313/313 [00:00<00:00, 719.37it/s]\n"
     ]
    },
    {
     "name": "stdout",
     "output_type": "stream",
     "text": [
      "\tTrain loss: 0.06119695248901844\n",
      "\t  Val loss: 0.06108353422663082\n",
      "Epoch: [86/150]\n"
     ]
    },
    {
     "name": "stderr",
     "output_type": "stream",
     "text": [
      "100%|██████████| 3750/3750 [00:12<00:00, 291.00it/s]\n",
      "100%|██████████| 313/313 [00:00<00:00, 698.66it/s]\n"
     ]
    },
    {
     "name": "stdout",
     "output_type": "stream",
     "text": [
      "\tTrain loss: 0.060823844967285795\n",
      "\t  Val loss: 0.05998742482818354\n",
      "Epoch: [87/150]\n"
     ]
    },
    {
     "name": "stderr",
     "output_type": "stream",
     "text": [
      "100%|██████████| 3750/3750 [00:12<00:00, 298.61it/s]\n",
      "100%|██████████| 313/313 [00:00<00:00, 703.37it/s]\n"
     ]
    },
    {
     "name": "stdout",
     "output_type": "stream",
     "text": [
      "\tTrain loss: 0.06044550937414169\n",
      "\t  Val loss: 0.05991746913701201\n",
      "Epoch: [88/150]\n"
     ]
    },
    {
     "name": "stderr",
     "output_type": "stream",
     "text": [
      "100%|██████████| 3750/3750 [00:12<00:00, 298.32it/s]\n",
      "100%|██████████| 313/313 [00:00<00:00, 700.23it/s]\n"
     ]
    },
    {
     "name": "stdout",
     "output_type": "stream",
     "text": [
      "\tTrain loss: 0.060076597359776496\n",
      "\t  Val loss: 0.05950655970282067\n",
      "Epoch: [89/150]\n"
     ]
    },
    {
     "name": "stderr",
     "output_type": "stream",
     "text": [
      "100%|██████████| 3750/3750 [00:12<00:00, 294.15it/s]\n",
      "100%|██████████| 313/313 [00:00<00:00, 687.79it/s]\n"
     ]
    },
    {
     "name": "stdout",
     "output_type": "stream",
     "text": [
      "\tTrain loss: 0.059730244343479476\n",
      "\t  Val loss: 0.05900058917963086\n",
      "Epoch: [90/150]\n"
     ]
    },
    {
     "name": "stderr",
     "output_type": "stream",
     "text": [
      "100%|██████████| 3750/3750 [00:11<00:00, 312.86it/s]\n",
      "100%|██████████| 313/313 [00:00<00:00, 712.99it/s]\n"
     ]
    },
    {
     "name": "stdout",
     "output_type": "stream",
     "text": [
      "\tTrain loss: 0.05937348080873489\n",
      "\t  Val loss: 0.058856466886239314\n",
      "Epoch: [91/150]\n"
     ]
    },
    {
     "name": "stderr",
     "output_type": "stream",
     "text": [
      "100%|██████████| 3750/3750 [00:10<00:00, 358.95it/s]\n",
      "100%|██████████| 313/313 [00:00<00:00, 684.90it/s]\n"
     ]
    },
    {
     "name": "stdout",
     "output_type": "stream",
     "text": [
      "\tTrain loss: 0.05904435738325119\n",
      "\t  Val loss: 0.05837605234247427\n",
      "Epoch: [92/150]\n"
     ]
    },
    {
     "name": "stderr",
     "output_type": "stream",
     "text": [
      "100%|██████████| 3750/3750 [00:10<00:00, 357.52it/s]\n",
      "100%|██████████| 313/313 [00:00<00:00, 684.63it/s]\n"
     ]
    },
    {
     "name": "stdout",
     "output_type": "stream",
     "text": [
      "\tTrain loss: 0.05873933966954549\n",
      "\t  Val loss: 0.05797420725369225\n",
      "Epoch: [93/150]\n"
     ]
    },
    {
     "name": "stderr",
     "output_type": "stream",
     "text": [
      "100%|██████████| 3750/3750 [00:10<00:00, 357.27it/s]\n",
      "100%|██████████| 313/313 [00:00<00:00, 677.49it/s]\n"
     ]
    },
    {
     "name": "stdout",
     "output_type": "stream",
     "text": [
      "\tTrain loss: 0.058390671421090765\n",
      "\t  Val loss: 0.057605461071664914\n",
      "Epoch: [94/150]\n"
     ]
    },
    {
     "name": "stderr",
     "output_type": "stream",
     "text": [
      "100%|██████████| 3750/3750 [00:10<00:00, 355.01it/s]\n",
      "100%|██████████| 313/313 [00:00<00:00, 657.56it/s]\n"
     ]
    },
    {
     "name": "stdout",
     "output_type": "stream",
     "text": [
      "\tTrain loss: 0.058098516553640366\n",
      "\t  Val loss: 0.057381447476034346\n",
      "Epoch: [95/150]\n"
     ]
    },
    {
     "name": "stderr",
     "output_type": "stream",
     "text": [
      "100%|██████████| 3750/3750 [00:10<00:00, 359.93it/s]\n",
      "100%|██████████| 313/313 [00:00<00:00, 695.84it/s]\n"
     ]
    },
    {
     "name": "stdout",
     "output_type": "stream",
     "text": [
      "\tTrain loss: 0.057802260278662046\n",
      "\t  Val loss: 0.056970989456572856\n",
      "Epoch: [96/150]\n"
     ]
    },
    {
     "name": "stderr",
     "output_type": "stream",
     "text": [
      "100%|██████████| 3750/3750 [00:10<00:00, 347.28it/s]\n",
      "100%|██████████| 313/313 [00:00<00:00, 721.20it/s]\n"
     ]
    },
    {
     "name": "stdout",
     "output_type": "stream",
     "text": [
      "\tTrain loss: 0.057492316539088886\n",
      "\t  Val loss: 0.056999794555643496\n",
      "Epoch: [97/150]\n"
     ]
    },
    {
     "name": "stderr",
     "output_type": "stream",
     "text": [
      "100%|██████████| 3750/3750 [00:10<00:00, 357.75it/s]\n",
      "100%|██████████| 313/313 [00:00<00:00, 712.91it/s]\n"
     ]
    },
    {
     "name": "stdout",
     "output_type": "stream",
     "text": [
      "\tTrain loss: 0.05722571590344111\n",
      "\t  Val loss: 0.056783367686283094\n",
      "Epoch: [98/150]\n"
     ]
    },
    {
     "name": "stderr",
     "output_type": "stream",
     "text": [
      "100%|██████████| 3750/3750 [00:10<00:00, 360.08it/s]\n",
      "100%|██████████| 313/313 [00:00<00:00, 727.91it/s]\n"
     ]
    },
    {
     "name": "stdout",
     "output_type": "stream",
     "text": [
      "\tTrain loss: 0.05693870218296846\n",
      "\t  Val loss: 0.05632125562467514\n",
      "Epoch: [99/150]\n"
     ]
    },
    {
     "name": "stderr",
     "output_type": "stream",
     "text": [
      "100%|██████████| 3750/3750 [00:10<00:00, 356.84it/s]\n",
      "100%|██████████| 313/313 [00:00<00:00, 703.37it/s]\n"
     ]
    },
    {
     "name": "stdout",
     "output_type": "stream",
     "text": [
      "\tTrain loss: 0.056678193777799604\n",
      "\t  Val loss: 0.055930380385142926\n",
      "Epoch: [100/150]\n"
     ]
    },
    {
     "name": "stderr",
     "output_type": "stream",
     "text": [
      "100%|██████████| 3750/3750 [00:10<00:00, 361.18it/s]\n",
      "100%|██████████| 313/313 [00:00<00:00, 716.35it/s]\n"
     ]
    },
    {
     "name": "stdout",
     "output_type": "stream",
     "text": [
      "\tTrain loss: 0.0564282082170248\n",
      "\t  Val loss: 0.0557148426342696\n",
      "Epoch: [101/150]\n"
     ]
    },
    {
     "name": "stderr",
     "output_type": "stream",
     "text": [
      "100%|██████████| 3750/3750 [00:11<00:00, 336.73it/s]\n",
      "100%|██████████| 313/313 [00:00<00:00, 667.50it/s]\n"
     ]
    },
    {
     "name": "stdout",
     "output_type": "stream",
     "text": [
      "\tTrain loss: 0.056163003328442575\n",
      "\t  Val loss: 0.05533365681529426\n",
      "Epoch: [102/150]\n"
     ]
    },
    {
     "name": "stderr",
     "output_type": "stream",
     "text": [
      "100%|██████████| 3750/3750 [00:12<00:00, 292.61it/s]\n",
      "100%|██████████| 313/313 [00:00<00:00, 689.43it/s]\n"
     ]
    },
    {
     "name": "stdout",
     "output_type": "stream",
     "text": [
      "\tTrain loss: 0.055903669128815336\n",
      "\t  Val loss: 0.055321456668095084\n",
      "Epoch: [103/150]\n"
     ]
    },
    {
     "name": "stderr",
     "output_type": "stream",
     "text": [
      "100%|██████████| 3750/3750 [00:12<00:00, 301.18it/s]\n",
      "100%|██████████| 313/313 [00:00<00:00, 677.42it/s]\n"
     ]
    },
    {
     "name": "stdout",
     "output_type": "stream",
     "text": [
      "\tTrain loss: 0.055680889000495275\n",
      "\t  Val loss: 0.0549051443608805\n",
      "Epoch: [104/150]\n"
     ]
    },
    {
     "name": "stderr",
     "output_type": "stream",
     "text": [
      "100%|██████████| 3750/3750 [00:10<00:00, 354.82it/s]\n",
      "100%|██████████| 313/313 [00:00<00:00, 703.37it/s]\n"
     ]
    },
    {
     "name": "stdout",
     "output_type": "stream",
     "text": [
      "\tTrain loss: 0.05545529336134593\n",
      "\t  Val loss: 0.05491437923651153\n",
      "Epoch: [105/150]\n"
     ]
    },
    {
     "name": "stderr",
     "output_type": "stream",
     "text": [
      "100%|██████████| 3750/3750 [00:10<00:00, 357.73it/s]\n",
      "100%|██████████| 313/313 [00:00<00:00, 710.30it/s]\n"
     ]
    },
    {
     "name": "stdout",
     "output_type": "stream",
     "text": [
      "\tTrain loss: 0.055223632530371346\n",
      "\t  Val loss: 0.05454735354350779\n",
      "Epoch: [106/150]\n"
     ]
    },
    {
     "name": "stderr",
     "output_type": "stream",
     "text": [
      "100%|██████████| 3750/3750 [00:10<00:00, 355.46it/s]\n",
      "100%|██████████| 313/313 [00:00<00:00, 688.48it/s]\n"
     ]
    },
    {
     "name": "stdout",
     "output_type": "stream",
     "text": [
      "\tTrain loss: 0.05500208801428477\n",
      "\t  Val loss: 0.05423358535042967\n",
      "Epoch: [107/150]\n"
     ]
    },
    {
     "name": "stderr",
     "output_type": "stream",
     "text": [
      "100%|██████████| 3750/3750 [00:12<00:00, 294.17it/s]\n",
      "100%|██████████| 313/313 [00:00<00:00, 694.87it/s]\n"
     ]
    },
    {
     "name": "stdout",
     "output_type": "stream",
     "text": [
      "\tTrain loss: 0.054793613477547964\n",
      "\t  Val loss: 0.0542868481824002\n",
      "Epoch: [108/150]\n"
     ]
    },
    {
     "name": "stderr",
     "output_type": "stream",
     "text": [
      "100%|██████████| 3750/3750 [00:12<00:00, 305.44it/s]\n",
      "100%|██████████| 313/313 [00:00<00:00, 682.66it/s]\n"
     ]
    },
    {
     "name": "stdout",
     "output_type": "stream",
     "text": [
      "\tTrain loss: 0.05456123877167702\n",
      "\t  Val loss: 0.05395489009900596\n",
      "Epoch: [109/150]\n"
     ]
    },
    {
     "name": "stderr",
     "output_type": "stream",
     "text": [
      "100%|██████████| 3750/3750 [00:12<00:00, 296.35it/s]\n",
      "100%|██████████| 313/313 [00:00<00:00, 706.55it/s]\n"
     ]
    },
    {
     "name": "stdout",
     "output_type": "stream",
     "text": [
      "\tTrain loss: 0.05437419394056002\n",
      "\t  Val loss: 0.053520711977927446\n",
      "Epoch: [110/150]\n"
     ]
    },
    {
     "name": "stderr",
     "output_type": "stream",
     "text": [
      "100%|██████████| 3750/3750 [00:12<00:00, 302.51it/s]\n",
      "100%|██████████| 313/313 [00:00<00:00, 709.75it/s]\n"
     ]
    },
    {
     "name": "stdout",
     "output_type": "stream",
     "text": [
      "\tTrain loss: 0.05417801548143228\n",
      "\t  Val loss: 0.053542008224767616\n",
      "Epoch: [111/150]\n"
     ]
    },
    {
     "name": "stderr",
     "output_type": "stream",
     "text": [
      "100%|██████████| 3750/3750 [00:12<00:00, 302.22it/s]\n",
      "100%|██████████| 313/313 [00:00<00:00, 704.85it/s]\n"
     ]
    },
    {
     "name": "stdout",
     "output_type": "stream",
     "text": [
      "\tTrain loss: 0.053961160637935005\n",
      "\t  Val loss: 0.05339018720835923\n",
      "Epoch: [112/150]\n"
     ]
    },
    {
     "name": "stderr",
     "output_type": "stream",
     "text": [
      "100%|██████████| 3750/3750 [00:12<00:00, 293.69it/s]\n",
      "100%|██████████| 313/313 [00:00<00:00, 709.75it/s]\n"
     ]
    },
    {
     "name": "stdout",
     "output_type": "stream",
     "text": [
      "\tTrain loss: 0.0537596946199735\n",
      "\t  Val loss: 0.05309112089129683\n",
      "Epoch: [113/150]\n"
     ]
    },
    {
     "name": "stderr",
     "output_type": "stream",
     "text": [
      "100%|██████████| 3750/3750 [00:12<00:00, 304.37it/s]\n",
      "100%|██████████| 313/313 [00:00<00:00, 715.90it/s]\n"
     ]
    },
    {
     "name": "stdout",
     "output_type": "stream",
     "text": [
      "\tTrain loss: 0.05357374019225439\n",
      "\t  Val loss: 0.052690379666729854\n",
      "Epoch: [114/150]\n"
     ]
    },
    {
     "name": "stderr",
     "output_type": "stream",
     "text": [
      "100%|██████████| 3750/3750 [00:12<00:00, 295.02it/s]\n",
      "100%|██████████| 313/313 [00:00<00:00, 698.66it/s]\n"
     ]
    },
    {
     "name": "stdout",
     "output_type": "stream",
     "text": [
      "\tTrain loss: 0.05340777079363664\n",
      "\t  Val loss: 0.05316251067641063\n",
      "Epoch: [115/150]\n"
     ]
    },
    {
     "name": "stderr",
     "output_type": "stream",
     "text": [
      "100%|██████████| 3750/3750 [00:11<00:00, 321.83it/s]\n",
      "100%|██████████| 313/313 [00:00<00:00, 713.79it/s]\n"
     ]
    },
    {
     "name": "stdout",
     "output_type": "stream",
     "text": [
      "\tTrain loss: 0.0531935984502236\n",
      "\t  Val loss: 0.052569410338188516\n",
      "Epoch: [116/150]\n"
     ]
    },
    {
     "name": "stderr",
     "output_type": "stream",
     "text": [
      "100%|██████████| 3750/3750 [00:10<00:00, 349.23it/s]\n",
      "100%|██████████| 313/313 [00:00<00:00, 687.92it/s]\n"
     ]
    },
    {
     "name": "stdout",
     "output_type": "stream",
     "text": [
      "\tTrain loss: 0.053051020008325574\n",
      "\t  Val loss: 0.05239869161440541\n",
      "Epoch: [117/150]\n"
     ]
    },
    {
     "name": "stderr",
     "output_type": "stream",
     "text": [
      "100%|██████████| 3750/3750 [00:12<00:00, 294.00it/s]\n",
      "100%|██████████| 313/313 [00:00<00:00, 708.15it/s]\n"
     ]
    },
    {
     "name": "stdout",
     "output_type": "stream",
     "text": [
      "\tTrain loss: 0.05286990957458814\n",
      "\t  Val loss: 0.05238471652705449\n",
      "Epoch: [118/150]\n"
     ]
    },
    {
     "name": "stderr",
     "output_type": "stream",
     "text": [
      "100%|██████████| 3750/3750 [00:12<00:00, 302.41it/s]\n",
      "100%|██████████| 313/313 [00:00<00:00, 696.84it/s]\n"
     ]
    },
    {
     "name": "stdout",
     "output_type": "stream",
     "text": [
      "\tTrain loss: 0.05266759930054347\n",
      "\t  Val loss: 0.0522266250734512\n",
      "Epoch: [119/150]\n"
     ]
    },
    {
     "name": "stderr",
     "output_type": "stream",
     "text": [
      "100%|██████████| 3750/3750 [00:12<00:00, 296.89it/s]\n",
      "100%|██████████| 313/313 [00:00<00:00, 700.15it/s]\n"
     ]
    },
    {
     "name": "stdout",
     "output_type": "stream",
     "text": [
      "\tTrain loss: 0.052506400561332704\n",
      "\t  Val loss: 0.052093443445885144\n",
      "Epoch: [120/150]\n"
     ]
    },
    {
     "name": "stderr",
     "output_type": "stream",
     "text": [
      "100%|██████████| 3750/3750 [00:12<00:00, 302.82it/s]\n",
      "100%|██████████| 313/313 [00:00<00:00, 707.30it/s]\n"
     ]
    },
    {
     "name": "stdout",
     "output_type": "stream",
     "text": [
      "\tTrain loss: 0.05231270505885283\n",
      "\t  Val loss: 0.05207456536472034\n",
      "Epoch: [121/150]\n"
     ]
    },
    {
     "name": "stderr",
     "output_type": "stream",
     "text": [
      "100%|██████████| 3750/3750 [00:10<00:00, 356.36it/s]\n",
      "100%|██████████| 313/313 [00:00<00:00, 698.66it/s]\n"
     ]
    },
    {
     "name": "stdout",
     "output_type": "stream",
     "text": [
      "\tTrain loss: 0.0521638235916694\n",
      "\t  Val loss: 0.05150326108113645\n",
      "Epoch: [122/150]\n"
     ]
    },
    {
     "name": "stderr",
     "output_type": "stream",
     "text": [
      "100%|██████████| 3750/3750 [00:10<00:00, 353.99it/s]\n",
      "100%|██████████| 313/313 [00:00<00:00, 711.37it/s]\n"
     ]
    },
    {
     "name": "stdout",
     "output_type": "stream",
     "text": [
      "\tTrain loss: 0.05200762597719828\n",
      "\t  Val loss: 0.05129276609982546\n",
      "Epoch: [123/150]\n"
     ]
    },
    {
     "name": "stderr",
     "output_type": "stream",
     "text": [
      "100%|██████████| 3750/3750 [00:10<00:00, 355.25it/s]\n",
      "100%|██████████| 313/313 [00:00<00:00, 689.43it/s]\n"
     ]
    },
    {
     "name": "stdout",
     "output_type": "stream",
     "text": [
      "\tTrain loss: 0.05183136092623075\n",
      "\t  Val loss: 0.05120332797352498\n",
      "Epoch: [124/150]\n"
     ]
    },
    {
     "name": "stderr",
     "output_type": "stream",
     "text": [
      "100%|██████████| 3750/3750 [00:10<00:00, 355.04it/s]\n",
      "100%|██████████| 313/313 [00:00<00:00, 664.54it/s]\n"
     ]
    },
    {
     "name": "stdout",
     "output_type": "stream",
     "text": [
      "\tTrain loss: 0.0516771087517341\n",
      "\t  Val loss: 0.051091765598081554\n",
      "Epoch: [125/150]\n"
     ]
    },
    {
     "name": "stderr",
     "output_type": "stream",
     "text": [
      "100%|██████████| 3750/3750 [00:10<00:00, 352.61it/s]\n",
      "100%|██████████| 313/313 [00:00<00:00, 667.37it/s]\n"
     ]
    },
    {
     "name": "stdout",
     "output_type": "stream",
     "text": [
      "\tTrain loss: 0.0515372588266929\n",
      "\t  Val loss: 0.05117949929100256\n",
      "Epoch: [126/150]\n"
     ]
    },
    {
     "name": "stderr",
     "output_type": "stream",
     "text": [
      "100%|██████████| 3750/3750 [00:10<00:00, 355.44it/s]\n",
      "100%|██████████| 313/313 [00:00<00:00, 716.85it/s]\n"
     ]
    },
    {
     "name": "stdout",
     "output_type": "stream",
     "text": [
      "\tTrain loss: 0.05137241535981496\n",
      "\t  Val loss: 0.05090062673718404\n",
      "Epoch: [127/150]\n"
     ]
    },
    {
     "name": "stderr",
     "output_type": "stream",
     "text": [
      "100%|██████████| 3750/3750 [00:10<00:00, 355.54it/s]\n",
      "100%|██████████| 313/313 [00:00<00:00, 704.96it/s]\n"
     ]
    },
    {
     "name": "stdout",
     "output_type": "stream",
     "text": [
      "\tTrain loss: 0.05121012531717618\n",
      "\t  Val loss: 0.05042000502919237\n",
      "Epoch: [128/150]\n"
     ]
    },
    {
     "name": "stderr",
     "output_type": "stream",
     "text": [
      "100%|██████████| 3750/3750 [00:10<00:00, 352.97it/s]\n",
      "100%|██████████| 313/313 [00:00<00:00, 708.15it/s]\n"
     ]
    },
    {
     "name": "stdout",
     "output_type": "stream",
     "text": [
      "\tTrain loss: 0.05106028489470482\n",
      "\t  Val loss: 0.05022519581710188\n",
      "Epoch: [129/150]\n"
     ]
    },
    {
     "name": "stderr",
     "output_type": "stream",
     "text": [
      "100%|██████████| 3750/3750 [00:10<00:00, 353.94it/s]\n",
      "100%|██████████| 313/313 [00:00<00:00, 733.02it/s]\n"
     ]
    },
    {
     "name": "stdout",
     "output_type": "stream",
     "text": [
      "\tTrain loss: 0.050925885375340776\n",
      "\t  Val loss: 0.05011634865460304\n",
      "Epoch: [130/150]\n"
     ]
    },
    {
     "name": "stderr",
     "output_type": "stream",
     "text": [
      "100%|██████████| 3750/3750 [00:10<00:00, 344.82it/s]\n",
      "100%|██████████| 313/313 [00:00<00:00, 703.08it/s]\n"
     ]
    },
    {
     "name": "stdout",
     "output_type": "stream",
     "text": [
      "\tTrain loss: 0.05076265415251255\n",
      "\t  Val loss: 0.04993936684899056\n",
      "Epoch: [131/150]\n"
     ]
    },
    {
     "name": "stderr",
     "output_type": "stream",
     "text": [
      "100%|██████████| 3750/3750 [00:11<00:00, 337.90it/s]\n",
      "100%|██████████| 313/313 [00:00<00:00, 703.37it/s]\n"
     ]
    },
    {
     "name": "stdout",
     "output_type": "stream",
     "text": [
      "\tTrain loss: 0.050623996595541634\n",
      "\t  Val loss: 0.05025418268177456\n",
      "Epoch: [132/150]\n"
     ]
    },
    {
     "name": "stderr",
     "output_type": "stream",
     "text": [
      "100%|██████████| 3750/3750 [00:12<00:00, 295.53it/s]\n",
      "100%|██████████| 313/313 [00:00<00:00, 680.44it/s]\n"
     ]
    },
    {
     "name": "stdout",
     "output_type": "stream",
     "text": [
      "\tTrain loss: 0.050496104303499066\n",
      "\t  Val loss: 0.04987299557739553\n",
      "Epoch: [133/150]\n"
     ]
    },
    {
     "name": "stderr",
     "output_type": "stream",
     "text": [
      "100%|██████████| 3750/3750 [00:12<00:00, 297.51it/s]\n",
      "100%|██████████| 313/313 [00:00<00:00, 711.06it/s]\n"
     ]
    },
    {
     "name": "stdout",
     "output_type": "stream",
     "text": [
      "\tTrain loss: 0.05034846072395643\n",
      "\t  Val loss: 0.04981651966468976\n",
      "Epoch: [134/150]\n"
     ]
    },
    {
     "name": "stderr",
     "output_type": "stream",
     "text": [
      "100%|██████████| 3750/3750 [00:10<00:00, 360.33it/s]\n",
      "100%|██████████| 313/313 [00:00<00:00, 717.55it/s]\n"
     ]
    },
    {
     "name": "stdout",
     "output_type": "stream",
     "text": [
      "\tTrain loss: 0.050189859028657274\n",
      "\t  Val loss: 0.04949219135668712\n",
      "Epoch: [135/150]\n"
     ]
    },
    {
     "name": "stderr",
     "output_type": "stream",
     "text": [
      "100%|██████████| 3750/3750 [00:10<00:00, 355.15it/s]\n",
      "100%|██████████| 313/313 [00:00<00:00, 715.91it/s]\n"
     ]
    },
    {
     "name": "stdout",
     "output_type": "stream",
     "text": [
      "\tTrain loss: 0.05008349235355854\n",
      "\t  Val loss: 0.05022986336780813\n",
      "Epoch: [136/150]\n"
     ]
    },
    {
     "name": "stderr",
     "output_type": "stream",
     "text": [
      "100%|██████████| 3750/3750 [00:10<00:00, 359.54it/s]\n",
      "100%|██████████| 313/313 [00:00<00:00, 685.24it/s]\n"
     ]
    },
    {
     "name": "stdout",
     "output_type": "stream",
     "text": [
      "\tTrain loss: 0.04994926635622978\n",
      "\t  Val loss: 0.049292026045985114\n",
      "Epoch: [137/150]\n"
     ]
    },
    {
     "name": "stderr",
     "output_type": "stream",
     "text": [
      "100%|██████████| 3750/3750 [00:12<00:00, 298.15it/s]\n",
      "100%|██████████| 313/313 [00:00<00:00, 716.25it/s]\n"
     ]
    },
    {
     "name": "stdout",
     "output_type": "stream",
     "text": [
      "\tTrain loss: 0.049799238541722295\n",
      "\t  Val loss: 0.0488604213744878\n",
      "Epoch: [138/150]\n"
     ]
    },
    {
     "name": "stderr",
     "output_type": "stream",
     "text": [
      "100%|██████████| 3750/3750 [00:12<00:00, 297.94it/s]\n",
      "100%|██████████| 313/313 [00:00<00:00, 683.41it/s]\n"
     ]
    },
    {
     "name": "stdout",
     "output_type": "stream",
     "text": [
      "\tTrain loss: 0.04968276765942574\n",
      "\t  Val loss: 0.04904712475955296\n",
      "Epoch: [139/150]\n"
     ]
    },
    {
     "name": "stderr",
     "output_type": "stream",
     "text": [
      "100%|██████████| 3750/3750 [00:12<00:00, 300.87it/s]\n",
      "100%|██████████| 313/313 [00:00<00:00, 715.43it/s]\n"
     ]
    },
    {
     "name": "stdout",
     "output_type": "stream",
     "text": [
      "\tTrain loss: 0.049558810492356616\n",
      "\t  Val loss: 0.04895568291504924\n",
      "Epoch: [140/150]\n"
     ]
    },
    {
     "name": "stderr",
     "output_type": "stream",
     "text": [
      "100%|██████████| 3750/3750 [00:12<00:00, 292.95it/s]\n",
      "100%|██████████| 313/313 [00:00<00:00, 687.73it/s]\n"
     ]
    },
    {
     "name": "stdout",
     "output_type": "stream",
     "text": [
      "\tTrain loss: 0.049437826207280156\n",
      "\t  Val loss: 0.04861701145387305\n",
      "Epoch: [141/150]\n"
     ]
    },
    {
     "name": "stderr",
     "output_type": "stream",
     "text": [
      "100%|██████████| 3750/3750 [00:12<00:00, 299.39it/s]\n",
      "100%|██████████| 313/313 [00:00<00:00, 708.15it/s]\n"
     ]
    },
    {
     "name": "stdout",
     "output_type": "stream",
     "text": [
      "\tTrain loss: 0.04929123776356379\n",
      "\t  Val loss: 0.04860556950441565\n",
      "Epoch: [142/150]\n"
     ]
    },
    {
     "name": "stderr",
     "output_type": "stream",
     "text": [
      "100%|██████████| 3750/3750 [00:12<00:00, 296.92it/s]\n",
      "100%|██████████| 313/313 [00:00<00:00, 714.08it/s]\n"
     ]
    },
    {
     "name": "stdout",
     "output_type": "stream",
     "text": [
      "\tTrain loss: 0.04917804417014122\n",
      "\t  Val loss: 0.04846853903307321\n",
      "Epoch: [143/150]\n"
     ]
    },
    {
     "name": "stderr",
     "output_type": "stream",
     "text": [
      "100%|██████████| 3750/3750 [00:12<00:00, 293.78it/s]\n",
      "100%|██████████| 313/313 [00:00<00:00, 706.55it/s]\n"
     ]
    },
    {
     "name": "stdout",
     "output_type": "stream",
     "text": [
      "\tTrain loss: 0.04907171420206626\n",
      "\t  Val loss: 0.048210347029633414\n",
      "Epoch: [144/150]\n"
     ]
    },
    {
     "name": "stderr",
     "output_type": "stream",
     "text": [
      "100%|██████████| 3750/3750 [00:12<00:00, 299.42it/s]\n",
      "100%|██████████| 313/313 [00:00<00:00, 669.87it/s]\n"
     ]
    },
    {
     "name": "stdout",
     "output_type": "stream",
     "text": [
      "\tTrain loss: 0.04894471547206243\n",
      "\t  Val loss: 0.04824764156541504\n",
      "Epoch: [145/150]\n"
     ]
    },
    {
     "name": "stderr",
     "output_type": "stream",
     "text": [
      "100%|██████████| 3750/3750 [00:12<00:00, 292.39it/s]\n",
      "100%|██████████| 313/313 [00:00<00:00, 676.03it/s]\n"
     ]
    },
    {
     "name": "stdout",
     "output_type": "stream",
     "text": [
      "\tTrain loss: 0.048799895373980204\n",
      "\t  Val loss: 0.048291146564788334\n",
      "Epoch: [146/150]\n"
     ]
    },
    {
     "name": "stderr",
     "output_type": "stream",
     "text": [
      "100%|██████████| 3750/3750 [00:12<00:00, 296.84it/s]\n",
      "100%|██████████| 313/313 [00:00<00:00, 697.11it/s]\n"
     ]
    },
    {
     "name": "stdout",
     "output_type": "stream",
     "text": [
      "\tTrain loss: 0.048714688309530414\n",
      "\t  Val loss: 0.04796652400645966\n",
      "Epoch: [147/150]\n"
     ]
    },
    {
     "name": "stderr",
     "output_type": "stream",
     "text": [
      "100%|██████████| 3750/3750 [00:12<00:00, 298.98it/s]\n",
      "100%|██████████| 313/313 [00:00<00:00, 702.29it/s]\n"
     ]
    },
    {
     "name": "stdout",
     "output_type": "stream",
     "text": [
      "\tTrain loss: 0.04857944273451964\n",
      "\t  Val loss: 0.04805914213815436\n",
      "Epoch: [148/150]\n"
     ]
    },
    {
     "name": "stderr",
     "output_type": "stream",
     "text": [
      "100%|██████████| 3750/3750 [00:11<00:00, 326.92it/s]\n",
      "100%|██████████| 313/313 [00:00<00:00, 712.99it/s]\n"
     ]
    },
    {
     "name": "stdout",
     "output_type": "stream",
     "text": [
      "\tTrain loss: 0.04847922860383987\n",
      "\t  Val loss: 0.04835898862383998\n",
      "Epoch: [149/150]\n"
     ]
    },
    {
     "name": "stderr",
     "output_type": "stream",
     "text": [
      "100%|██████████| 3750/3750 [00:12<00:00, 302.53it/s]\n",
      "100%|██████████| 313/313 [00:00<00:00, 709.77it/s]\n"
     ]
    },
    {
     "name": "stdout",
     "output_type": "stream",
     "text": [
      "\tTrain loss: 0.048362176070610684\n",
      "\t  Val loss: 0.048189210934570424\n",
      "Epoch: [150/150]\n"
     ]
    },
    {
     "name": "stderr",
     "output_type": "stream",
     "text": [
      "100%|██████████| 3750/3750 [00:12<00:00, 308.72it/s]\n",
      "100%|██████████| 313/313 [00:00<00:00, 700.74it/s]"
     ]
    },
    {
     "name": "stdout",
     "output_type": "stream",
     "text": [
      "\tTrain loss: 0.04827858894666036\n",
      "\t  Val loss: 0.047704909460994004\n"
     ]
    },
    {
     "name": "stderr",
     "output_type": "stream",
     "text": [
      "\n"
     ]
    }
   ],
   "source": [
    "train_loss_per_epoch = []\n",
    "valid_loss_per_epoch = []\n",
    "counter = 0\n",
    "best_model = None\n",
    "\n",
    "for epoch in range(EPOCHS):\n",
    "    print(\"Epoch: [{}/{}]\".format(epoch+1, EPOCHS))\n",
    "    train_loss = []\n",
    "    val_loss = []\n",
    "    for X, y in tqdm(train_dl):\n",
    "        X = X.to(device)\n",
    "        model.zero_grad()\n",
    "        rec_X = model(X)\n",
    "        loss = loss_func(X, rec_X)\n",
    "        train_loss.append(loss.item())\n",
    "        loss.backward()\n",
    "        optim.step()\n",
    "\n",
    "    for X, y in tqdm(val_dl):\n",
    "        with torch.no_grad():\n",
    "            X = X.to(device)\n",
    "            rec_X = model(X)\n",
    "            loss = loss_func(X, rec_X)\n",
    "            val_loss.append(loss.item())\n",
    "    \n",
    "    train_loss_per_epoch.append(sum(train_loss)/len(train_loss))\n",
    "    valid_loss_per_epoch.append(sum(val_loss)/len(val_loss))\n",
    "\n",
    "    if valid_loss_per_epoch[-1] == min(valid_loss_per_epoch):\n",
    "        counter = 0\n",
    "        best_model = deepcopy(model)\n",
    "    \n",
    "    else:\n",
    "        counter += 1\n",
    "\n",
    "    print(\"\\tTrain loss: {}\".format(train_loss_per_epoch[-1]))\n",
    "    print(\"\\t  Val loss: {}\".format(valid_loss_per_epoch[-1]))\n",
    "\n",
    "    if counter == 10:\n",
    "        print(\"\\nEarly stop: model is not converging\")\n",
    "        break"
   ]
  },
  {
   "cell_type": "code",
   "execution_count": 7,
   "metadata": {},
   "outputs": [
    {
     "data": {
      "image/png": "[encoded data removed]",
      "text/plain": [
       "<Figure size 640x480 with 1 Axes>"
      ]
     },
     "metadata": {},
     "output_type": "display_data"
    }
   ],
   "source": [
    "plt.plot(train_loss_per_epoch, label=\"train\")\n",
    "plt.plot(valid_loss_per_epoch, label=\"validation\")\n",
    "plt.legend()\n",
    "plt.title(\"Loss\")\n",
    "\n",
    "plt.show()"
   ]
  },
  {
   "cell_type": "code",
   "execution_count": 10,
   "metadata": {},
   "outputs": [
    {
     "data": {
      "image/png": "[encoded data removed]",
      "text/plain": [
       "<Figure size 1500x600 with 10 Axes>"
      ]
     },
     "metadata": {},
     "output_type": "display_data"
    }
   ],
   "source": [
    "\n",
    "fig, axs = plt.subplots(2, 5, figsize=(15, 6))\n",
    "i = 0\n",
    "skip = 0\n",
    "\n",
    "for image, label in test_dl:\n",
    "    if skip > 0:\n",
    "        skip -= 1\n",
    "        continue\n",
    "    \n",
    "    with torch.no_grad():\n",
    "        rec = best_model(image.to(device))\n",
    "\n",
    "    axs[0][i].imshow(image[0].squeeze(), cmap=\"gray\")\n",
    "    axs[1][i].imshow(rec[0].squeeze().cpu(), cmap=\"gray\")\n",
    "    axs[0][i].set_title(str(label))\n",
    "    axs[0][i].set_xticks([])\n",
    "    axs[0][i].set_yticks([])\n",
    "    axs[1][i].set_xticks([])\n",
    "    axs[1][i].set_yticks([])\n",
    "\n",
    "    i += 1\n",
    "\n",
    "    if i == 5:\n",
    "        break"
   ]
  },
  {
   "cell_type": "code",
   "execution_count": 9,
   "metadata": {},
   "outputs": [],
   "source": [
    "torch.save(best_model.state_dict(), \"auto_encoder/weights/ae_4_2_2.dat\")"
   ]
  }
 ],
 "metadata": {
  "kernelspec": {
   "display_name": "aega",
   "language": "python",
   "name": "python3"
  },
  "language_info": {
   "codemirror_mode": {
    "name": "ipython",
    "version": 3
   },
   "file_extension": ".py",
   "mimetype": "text/x-python",
   "name": "python",
   "nbconvert_exporter": "python",
   "pygments_lexer": "ipython3",
   "version": "3.11.7"
  }
 },
 "nbformat": 4,
 "nbformat_minor": 2
}
